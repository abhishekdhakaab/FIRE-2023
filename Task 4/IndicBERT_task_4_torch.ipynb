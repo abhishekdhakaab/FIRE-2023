{
  "cells": [
    {
      "cell_type": "markdown",
      "source": [
        "PART OF FIRE -HASOC Competition -One of Four task (rest of the codes are seprate)\n",
        "\n"
      ],
      "metadata": {
        "id": "jERizRr_1-uK"
      }
    },
    {
      "cell_type": "markdown",
      "source": [
        "## Importing libraries\n"
      ],
      "metadata": {
        "id": "ECHcCBSC4Kpf"
      }
    },
    {
      "cell_type": "code",
      "source": [
        "from google.colab import drive\n",
        "drive.mount('/content/drive')"
      ],
      "metadata": {
        "colab": {
          "base_uri": "https://localhost:8080/"
        },
        "id": "IxvTtvHCG93c",
        "outputId": "5a514509-13f6-4736-b4a4-1c9a897f5779"
      },
      "execution_count": null,
      "outputs": [
        {
          "output_type": "stream",
          "name": "stdout",
          "text": [
            "Drive already mounted at /content/drive; to attempt to forcibly remount, call drive.mount(\"/content/drive\", force_remount=True).\n"
          ]
        }
      ]
    },
    {
      "cell_type": "code",
      "source": [
        "!pip install transformers"
      ],
      "metadata": {
        "colab": {
          "base_uri": "https://localhost:8080/"
        },
        "id": "_-o-CmCJG8QR",
        "outputId": "9a44b6ab-ef16-4627-d76e-56cfde08c564"
      },
      "execution_count": null,
      "outputs": [
        {
          "output_type": "stream",
          "name": "stdout",
          "text": [
            "Requirement already satisfied: transformers in /usr/local/lib/python3.10/dist-packages (4.31.0)\n",
            "Requirement already satisfied: filelock in /usr/local/lib/python3.10/dist-packages (from transformers) (3.12.2)\n",
            "Requirement already satisfied: huggingface-hub<1.0,>=0.14.1 in /usr/local/lib/python3.10/dist-packages (from transformers) (0.16.4)\n",
            "Requirement already satisfied: numpy>=1.17 in /usr/local/lib/python3.10/dist-packages (from transformers) (1.23.5)\n",
            "Requirement already satisfied: packaging>=20.0 in /usr/local/lib/python3.10/dist-packages (from transformers) (23.1)\n",
            "Requirement already satisfied: pyyaml>=5.1 in /usr/local/lib/python3.10/dist-packages (from transformers) (6.0.1)\n",
            "Requirement already satisfied: regex!=2019.12.17 in /usr/local/lib/python3.10/dist-packages (from transformers) (2023.6.3)\n",
            "Requirement already satisfied: requests in /usr/local/lib/python3.10/dist-packages (from transformers) (2.31.0)\n",
            "Requirement already satisfied: tokenizers!=0.11.3,<0.14,>=0.11.1 in /usr/local/lib/python3.10/dist-packages (from transformers) (0.13.3)\n",
            "Requirement already satisfied: safetensors>=0.3.1 in /usr/local/lib/python3.10/dist-packages (from transformers) (0.3.2)\n",
            "Requirement already satisfied: tqdm>=4.27 in /usr/local/lib/python3.10/dist-packages (from transformers) (4.66.0)\n",
            "Requirement already satisfied: fsspec in /usr/local/lib/python3.10/dist-packages (from huggingface-hub<1.0,>=0.14.1->transformers) (2023.6.0)\n",
            "Requirement already satisfied: typing-extensions>=3.7.4.3 in /usr/local/lib/python3.10/dist-packages (from huggingface-hub<1.0,>=0.14.1->transformers) (4.7.1)\n",
            "Requirement already satisfied: charset-normalizer<4,>=2 in /usr/local/lib/python3.10/dist-packages (from requests->transformers) (3.2.0)\n",
            "Requirement already satisfied: idna<4,>=2.5 in /usr/local/lib/python3.10/dist-packages (from requests->transformers) (3.4)\n",
            "Requirement already satisfied: urllib3<3,>=1.21.1 in /usr/local/lib/python3.10/dist-packages (from requests->transformers) (2.0.4)\n",
            "Requirement already satisfied: certifi>=2017.4.17 in /usr/local/lib/python3.10/dist-packages (from requests->transformers) (2023.7.22)\n"
          ]
        }
      ]
    },
    {
      "cell_type": "code",
      "source": [
        "import torch\n",
        "import torch.optim as optim\n",
        "import torch.nn.functional as F\n",
        "import torch\n",
        "import torch.nn as nn\n",
        "from transformers import BertModel, BertTokenizer\n",
        "import pandas as pd"
      ],
      "metadata": {
        "id": "6082Ke7zG4vE"
      },
      "execution_count": null,
      "outputs": []
    },
    {
      "cell_type": "markdown",
      "source": [
        "## For quick changes"
      ],
      "metadata": {
        "id": "liOMiZDCKEJM"
      }
    },
    {
      "cell_type": "code",
      "source": [
        "\n",
        "location1='/content/drive/MyDrive/hate rate/task 4/model saving/Assamese bert/lr=0.1/model_weights.pth'\n",
        "location2='/content/drive/MyDrive/hate rate/task 4/model saving/Assamese bert/lr=0.1/model_architecture.pth'\n",
        "\n",
        "\n"
      ],
      "metadata": {
        "id": "MUkhZ_-M4KEd"
      },
      "execution_count": null,
      "outputs": []
    },
    {
      "cell_type": "markdown",
      "source": [
        "## model"
      ],
      "metadata": {
        "id": "aToCiLQXKMDM"
      }
    },
    {
      "cell_type": "code",
      "source": [
        "# df=pd.read_csv('/content/drive/MyDrive/hate rate/task 4/dataset/train_AH_preprocessed.csv')\n",
        "df=pd.read_csv('/content/drive/MyDrive/hate rate/task 4/dataset/train_BO_AH_HASOC2023.csv')"
      ],
      "metadata": {
        "id": "ohiNxGTc0ZSX"
      },
      "execution_count": null,
      "outputs": []
    },
    {
      "cell_type": "code",
      "source": [
        "\n",
        "import re\n",
        "\n",
        "def clean_assamese_text(text):\n",
        "    # Remove emojis and non-Assamese characters\n",
        "    clean_text = re.sub(r'[^\\w\\s\\u0980-\\u09FF]+', ' ', text)\n",
        "\n",
        "    # Replace multiple spaces with a single space\n",
        "    clean_text = re.sub(r'\\s+', ' ', clean_text)\n",
        "\n",
        "    return clean_text.strip()\n",
        "\n",
        "\n",
        "preprocessed_text=pd.Series()\n",
        "for indx,row in df.iterrows():\n",
        "  p_text=clean_assamese_text(row['text'])\n",
        "  preprocessed_text.at[indx]=p_text\n",
        "df['pre_text']=preprocessed_text"
      ],
      "metadata": {
        "colab": {
          "base_uri": "https://localhost:8080/"
        },
        "id": "LplFOLttPdCG",
        "outputId": "2e0f861f-f4c5-43e3-e154-c85db1321dd5"
      },
      "execution_count": null,
      "outputs": [
        {
          "output_type": "stream",
          "name": "stderr",
          "text": [
            "<ipython-input-57-28eba094286f>:13: FutureWarning: The default dtype for empty Series will be 'object' instead of 'float64' in a future version. Specify a dtype explicitly to silence this warning.\n",
            "  preprocessed_text=pd.Series()\n"
          ]
        }
      ]
    },
    {
      "cell_type": "code",
      "source": [
        "df.columns"
      ],
      "metadata": {
        "colab": {
          "base_uri": "https://localhost:8080/"
        },
        "id": "t_ZiJX330gzm",
        "outputId": "67e52443-16dc-4362-c27d-c8906d07136c"
      },
      "execution_count": null,
      "outputs": [
        {
          "output_type": "execute_result",
          "data": {
            "text/plain": [
              "Index(['S. No.', 'text', 'task_1', 'pre_text'], dtype='object')"
            ]
          },
          "metadata": {},
          "execution_count": 58
        }
      ]
    },
    {
      "cell_type": "code",
      "source": [
        "#convert label to int\n",
        "output=pd.Series()\n",
        "for indx,row in df.iterrows():\n",
        "  current=row['task_1']\n",
        "  if(current==\"NOT\"):\n",
        "    output.at[indx]=0\n",
        "  else:\n",
        "    output.at[indx]=1\n",
        "df['output']=output\n",
        "\n",
        "\n",
        "#finding longest sentence\n",
        "maxx=0\n",
        "\n",
        "for s in df['text']:\n",
        "  s_len=len(s.split())\n",
        "  if(s_len>maxx):\n",
        "    sent=s\n",
        "  maxx=max(s_len,maxx)\n",
        "\n",
        "\n",
        "\n",
        "# Pad sequences to a fixed length (adjust MAX_LEN if needed)\n",
        "MAX_LEN = maxx\n",
        "print(maxx)"
      ],
      "metadata": {
        "colab": {
          "base_uri": "https://localhost:8080/"
        },
        "id": "BrMk_Bbs1b3a",
        "outputId": "31fa0441-53ad-4118-c600-ac11a5b9eb3d"
      },
      "execution_count": null,
      "outputs": [
        {
          "output_type": "stream",
          "name": "stderr",
          "text": [
            "<ipython-input-59-f250d2b08d33>:2: FutureWarning: The default dtype for empty Series will be 'object' instead of 'float64' in a future version. Specify a dtype explicitly to silence this warning.\n",
            "  output=pd.Series()\n"
          ]
        },
        {
          "output_type": "stream",
          "name": "stdout",
          "text": [
            "62\n"
          ]
        }
      ]
    },
    {
      "cell_type": "code",
      "execution_count": null,
      "metadata": {
        "id": "ktVPgRLOH-9V"
      },
      "outputs": [],
      "source": [
        "import pandas as pd\n",
        "from sklearn.model_selection import train_test_split\n",
        "\n",
        "\n",
        "\n",
        "# Splitting the dataframe into train and test sets\n",
        "# _, datadf = train_test_split(df, test_size=0.2, random_state=42)\n",
        "train_df,val_df=train_test_split(df,test_size=0.1,random_state=57)\n",
        "\n",
        "\n",
        "\n",
        "# Reset the index of the DataFrame\n",
        "train_df = train_df.reset_index(drop=True)\n",
        "# Reset the index of the DataFrame\n",
        "val_df = val_df.reset_index(drop=True)\n",
        "\n"
      ]
    },
    {
      "cell_type": "code",
      "source": [],
      "metadata": {
        "id": "6xgYIEXhP6A8"
      },
      "execution_count": null,
      "outputs": []
    },
    {
      "cell_type": "code",
      "source": [
        "model_name='alayaran/bodo-bert-mlm-base-article'\n",
        "\n",
        "from transformers import BertModel,AutoTokenizer\n",
        "# Download pytorch model\n",
        "\n",
        "tokenizer = AutoTokenizer.from_pretrained(model_name, padding='max_length', max_length=128,return_tensors='pt')"
      ],
      "metadata": {
        "id": "cpi-6A8yzRef",
        "colab": {
          "base_uri": "https://localhost:8080/",
          "height": 145,
          "referenced_widgets": [
            "6ad80766a282406ebc6ac30db26900e2",
            "e2cd272c06a44a2bacd1daafba77e4a8",
            "28152acfca834ede9a4f263e82d21124",
            "699e2d5798df425e87ed74443f6f5e83",
            "c04ca21ac33d48a9b8436633c9864d12",
            "7f8d5caffbff4821baf1d5200b0bb9e9",
            "9caf5b775ee14398b9bcde4b56fab94d",
            "7697d9b4ae2f4ff68871fc689b55c11e",
            "8589f740021d40578971d42a620a4295",
            "0f721d7f86ea4fedb310571c93bd3a0e",
            "b328a677b1bf4617a892bfd411d106dc",
            "63d1c986f43f44c3959e2f46a9651917",
            "b90e20fbc1ee4e4bb51e6353ed08198f",
            "654392551207459abf83c7ab2d0c8cf0",
            "343caff0cc6c406c8cdaff157e9063a0",
            "c9156cae24744743a1bc2c5d5d0f4c55",
            "a24bb49c3b3645d59b35e6c765643a1c",
            "910cf2f9770f4c0d832873deda0fc5db",
            "9735bf2bd854462ebfea39288f05c4ec",
            "f7d81565053e4ad5bddb5d846c33f636",
            "8fb16076d39445478295388b378ecdc8",
            "83c01b91691f4450a2e9df67ba6d677a",
            "e1537f5439a84eb6a2c015ed5bcb2ffe",
            "ce91694312ae45b38851576bde59bbf6",
            "3a5c1fd15a8a4d2a93c4e7ee595bde07",
            "8721513aa40d4935a5b4aebde9157a1b",
            "dde6be7c09414e16a111ff624af76a05",
            "90513873338544928375a3dc7569a63e",
            "fb764bd443e2433c9a170ef08ed4e57b",
            "3e09162f7b72428b8f0886da44480a9f",
            "2dca2bc9191645acb01b82be411350ba",
            "3d8e481bc24a4205bcfc68fc7778b469",
            "043f748b4fd547f19cf70f1622f2ece6",
            "6557e756ac5a444b8690b3183005d446",
            "1aff7e36ac3c466abd2b059af3fd6a0c",
            "9579439f102e46e789e79a7a12465435",
            "3c87080774284534ae3a4559f3f8e16b",
            "165d0e59f4ee404a8d8327233d9491d8",
            "3a11b94af3aa40fda47f695a3ff7655d",
            "cb09893caca24e1b95aa9fd467e72a79",
            "de3f12932e2f4e6cba715576b0d9f187",
            "baa39be48812462a924639bf9938738c",
            "69ebc9b62e5e4a7eab5fdc6cc7e1d8cf",
            "c10d0bb438a644f7aedc918bb3494980"
          ]
        },
        "outputId": "1c3be129-92e3-471e-c15c-d80069c2142e"
      },
      "execution_count": null,
      "outputs": [
        {
          "output_type": "display_data",
          "data": {
            "text/plain": [
              "Downloading (…)okenizer_config.json:   0%|          | 0.00/519 [00:00<?, ?B/s]"
            ],
            "application/vnd.jupyter.widget-view+json": {
              "version_major": 2,
              "version_minor": 0,
              "model_id": "6ad80766a282406ebc6ac30db26900e2"
            }
          },
          "metadata": {}
        },
        {
          "output_type": "display_data",
          "data": {
            "text/plain": [
              "Downloading (…)solve/main/vocab.txt:   0%|          | 0.00/894k [00:00<?, ?B/s]"
            ],
            "application/vnd.jupyter.widget-view+json": {
              "version_major": 2,
              "version_minor": 0,
              "model_id": "63d1c986f43f44c3959e2f46a9651917"
            }
          },
          "metadata": {}
        },
        {
          "output_type": "display_data",
          "data": {
            "text/plain": [
              "Downloading (…)/main/tokenizer.json:   0%|          | 0.00/1.69M [00:00<?, ?B/s]"
            ],
            "application/vnd.jupyter.widget-view+json": {
              "version_major": 2,
              "version_minor": 0,
              "model_id": "e1537f5439a84eb6a2c015ed5bcb2ffe"
            }
          },
          "metadata": {}
        },
        {
          "output_type": "display_data",
          "data": {
            "text/plain": [
              "Downloading (…)cial_tokens_map.json:   0%|          | 0.00/125 [00:00<?, ?B/s]"
            ],
            "application/vnd.jupyter.widget-view+json": {
              "version_major": 2,
              "version_minor": 0,
              "model_id": "6557e756ac5a444b8690b3183005d446"
            }
          },
          "metadata": {}
        }
      ]
    },
    {
      "cell_type": "code",
      "source": [
        "df.columns"
      ],
      "metadata": {
        "colab": {
          "base_uri": "https://localhost:8080/"
        },
        "id": "GdYvkQfftaau",
        "outputId": "6a42e9a0-9085-480c-fb48-03b3dda68a5d"
      },
      "execution_count": null,
      "outputs": [
        {
          "output_type": "execute_result",
          "data": {
            "text/plain": [
              "Index(['S. No.', 'text', 'task_1', 'pre_text', 'output'], dtype='object')"
            ]
          },
          "metadata": {},
          "execution_count": 66
        }
      ]
    },
    {
      "cell_type": "code",
      "source": [
        "unqiue_word=set()\n",
        "for sentence in df['text']:\n",
        "  words=sentence.split()\n",
        "  for word in words:\n",
        "    unqiue_word.add(word)\n",
        "print(len(unqiue_word))\n",
        "vocab=tokenizer.get_vocab()\n",
        "print(len(vocab))\n",
        "yes_count=0\n",
        "no_count=0\n",
        "for word in unqiue_word:\n",
        "  if (word in vocab):\n",
        "    yes_count+=1\n",
        "  else:\n",
        "    no_count+=1"
      ],
      "metadata": {
        "colab": {
          "base_uri": "https://localhost:8080/"
        },
        "id": "sz2jAhIttOte",
        "outputId": "5c9f2565-ac55-4e64-f67b-6f3a44d9a150"
      },
      "execution_count": null,
      "outputs": [
        {
          "output_type": "stream",
          "name": "stdout",
          "text": [
            "4903\n",
            "50000\n"
          ]
        }
      ]
    },
    {
      "cell_type": "code",
      "source": [
        "print(yes_count)\n",
        "print(no_count)"
      ],
      "metadata": {
        "colab": {
          "base_uri": "https://localhost:8080/"
        },
        "id": "H3F_vn7iwQK1",
        "outputId": "6df3b87e-b4c0-4db8-e4da-211565ae8b10"
      },
      "execution_count": null,
      "outputs": [
        {
          "output_type": "stream",
          "name": "stdout",
          "text": [
            "1222\n",
            "3681\n"
          ]
        }
      ]
    },
    {
      "cell_type": "code",
      "source": [
        "bert_model=BertModel.from_pretrained(model_name)\n",
        "\n",
        "for param in bert_model.encoder.layer.parameters():\n",
        "            param.requires_grad = False\n",
        "\n",
        "# for param in bert_model.encoder.layer[-4:].parameters():\n",
        "#             param.requires_grad = True\n",
        "\n",
        "\n",
        "for name, param in bert_model.named_parameters():\n",
        "            print(f'Layer: {name} - Trainable: {param.requires_grad}')"
      ],
      "metadata": {
        "id": "UoUNKyflzgRQ",
        "colab": {
          "base_uri": "https://localhost:8080/"
        },
        "outputId": "ade7f6a9-edef-4cb6-88a6-052c1bab3670"
      },
      "execution_count": null,
      "outputs": [
        {
          "output_type": "stream",
          "name": "stderr",
          "text": [
            "You are using a model of type albert to instantiate a model of type bert. This is not supported for all configurations of models and can yield errors.\n",
            "Some weights of BertModel were not initialized from the model checkpoint at ai4bharat/indic-bert and are newly initialized: ['encoder.layer.1.output.LayerNorm.weight', 'encoder.layer.7.intermediate.dense.bias', 'encoder.layer.10.intermediate.dense.bias', 'encoder.layer.1.attention.self.value.bias', 'encoder.layer.2.attention.self.key.bias', 'encoder.layer.0.attention.self.query.weight', 'encoder.layer.3.output.dense.bias', 'encoder.layer.5.attention.self.query.bias', 'encoder.layer.7.intermediate.dense.weight', 'encoder.layer.2.attention.output.dense.bias', 'encoder.layer.3.attention.output.dense.weight', 'encoder.layer.10.output.LayerNorm.bias', 'encoder.layer.8.output.dense.weight', 'encoder.layer.9.output.LayerNorm.bias', 'encoder.layer.4.attention.self.key.bias', 'embeddings.word_embeddings.weight', 'encoder.layer.6.attention.self.key.weight', 'encoder.layer.2.attention.self.value.bias', 'encoder.layer.4.attention.self.value.weight', 'encoder.layer.2.attention.output.dense.weight', 'encoder.layer.3.attention.output.LayerNorm.bias', 'encoder.layer.10.output.LayerNorm.weight', 'encoder.layer.6.attention.self.value.weight', 'encoder.layer.7.output.LayerNorm.bias', 'encoder.layer.4.attention.output.LayerNorm.weight', 'encoder.layer.0.attention.self.query.bias', 'encoder.layer.0.attention.self.value.weight', 'encoder.layer.9.attention.self.query.weight', 'encoder.layer.1.attention.self.value.weight', 'encoder.layer.6.intermediate.dense.weight', 'encoder.layer.9.attention.self.key.bias', 'encoder.layer.5.output.dense.bias', 'encoder.layer.0.attention.self.key.weight', 'encoder.layer.3.attention.self.query.bias', 'encoder.layer.7.output.dense.bias', 'encoder.layer.9.output.dense.bias', 'encoder.layer.9.attention.self.value.bias', 'encoder.layer.10.attention.self.key.bias', 'encoder.layer.10.attention.self.query.bias', 'encoder.layer.10.attention.output.LayerNorm.weight', 'encoder.layer.2.attention.self.key.weight', 'encoder.layer.3.attention.output.LayerNorm.weight', 'encoder.layer.3.attention.output.dense.bias', 'encoder.layer.0.attention.output.LayerNorm.bias', 'encoder.layer.2.output.LayerNorm.weight', 'encoder.layer.7.attention.self.key.weight', 'encoder.layer.5.output.LayerNorm.weight', 'encoder.layer.5.attention.self.value.weight', 'encoder.layer.8.output.LayerNorm.weight', 'encoder.layer.11.attention.output.dense.bias', 'encoder.layer.4.output.dense.weight', 'encoder.layer.1.attention.output.dense.bias', 'encoder.layer.9.attention.self.key.weight', 'encoder.layer.9.attention.output.dense.bias', 'encoder.layer.10.attention.self.query.weight', 'encoder.layer.5.attention.self.key.bias', 'encoder.layer.9.intermediate.dense.weight', 'encoder.layer.7.attention.self.key.bias', 'encoder.layer.10.attention.self.key.weight', 'encoder.layer.0.output.dense.bias', 'encoder.layer.8.intermediate.dense.bias', 'encoder.layer.6.output.dense.bias', 'encoder.layer.7.attention.self.query.bias', 'encoder.layer.8.attention.self.key.weight', 'encoder.layer.4.output.LayerNorm.bias', 'encoder.layer.7.attention.output.dense.weight', 'encoder.layer.6.output.LayerNorm.weight', 'encoder.layer.4.attention.output.dense.bias', 'encoder.layer.7.attention.self.value.bias', 'encoder.layer.9.attention.output.LayerNorm.weight', 'encoder.layer.10.attention.output.dense.weight', 'encoder.layer.10.attention.output.dense.bias', 'encoder.layer.6.attention.self.key.bias', 'encoder.layer.0.intermediate.dense.bias', 'encoder.layer.11.attention.self.value.bias', 'encoder.layer.8.attention.self.key.bias', 'encoder.layer.3.output.LayerNorm.weight', 'encoder.layer.11.output.LayerNorm.weight', 'encoder.layer.5.attention.self.key.weight', 'encoder.layer.6.attention.output.dense.weight', 'encoder.layer.0.attention.output.LayerNorm.weight', 'encoder.layer.3.output.dense.weight', 'encoder.layer.5.output.dense.weight', 'encoder.layer.5.attention.output.dense.bias', 'encoder.layer.8.attention.output.dense.weight', 'encoder.layer.1.attention.output.LayerNorm.bias', 'encoder.layer.3.intermediate.dense.bias', 'encoder.layer.9.attention.output.dense.weight', 'encoder.layer.11.attention.output.LayerNorm.bias', 'encoder.layer.1.intermediate.dense.bias', 'encoder.layer.1.output.dense.bias', 'encoder.layer.0.attention.output.dense.weight', 'encoder.layer.0.attention.output.dense.bias', 'encoder.layer.4.attention.self.value.bias', 'embeddings.LayerNorm.bias', 'encoder.layer.11.attention.output.LayerNorm.weight', 'encoder.layer.11.intermediate.dense.weight', 'encoder.layer.7.attention.output.LayerNorm.weight', 'encoder.layer.9.attention.output.LayerNorm.bias', 'encoder.layer.1.attention.self.key.weight', 'encoder.layer.9.output.dense.weight', 'encoder.layer.10.attention.self.value.bias', 'encoder.layer.11.output.dense.bias', 'encoder.layer.11.attention.output.dense.weight', 'embeddings.LayerNorm.weight', 'encoder.layer.10.output.dense.weight', 'encoder.layer.8.attention.self.value.weight', 'encoder.layer.2.output.LayerNorm.bias', 'encoder.layer.7.attention.output.dense.bias', 'encoder.layer.11.attention.self.key.weight', 'encoder.layer.4.output.dense.bias', 'encoder.layer.1.intermediate.dense.weight', 'encoder.layer.2.attention.self.query.weight', 'encoder.layer.4.attention.self.query.weight', 'encoder.layer.11.output.LayerNorm.bias', 'encoder.layer.2.attention.self.query.bias', 'encoder.layer.6.output.LayerNorm.bias', 'encoder.layer.3.attention.self.key.bias', 'encoder.layer.9.attention.self.value.weight', 'encoder.layer.8.attention.output.dense.bias', 'encoder.layer.11.attention.self.key.bias', 'encoder.layer.5.attention.self.value.bias', 'encoder.layer.2.attention.output.LayerNorm.weight', 'encoder.layer.5.output.LayerNorm.bias', 'embeddings.token_type_embeddings.weight', 'encoder.layer.5.attention.output.dense.weight', 'encoder.layer.6.attention.output.LayerNorm.bias', 'encoder.layer.6.attention.self.value.bias', 'encoder.layer.1.output.dense.weight', 'encoder.layer.1.attention.output.LayerNorm.weight', 'encoder.layer.4.output.LayerNorm.weight', 'encoder.layer.9.output.LayerNorm.weight', 'encoder.layer.0.output.dense.weight', 'encoder.layer.1.attention.self.query.weight', 'encoder.layer.10.intermediate.dense.weight', 'encoder.layer.6.attention.output.LayerNorm.weight', 'encoder.layer.3.attention.self.key.weight', 'encoder.layer.2.output.dense.weight', 'encoder.layer.2.attention.self.value.weight', 'encoder.layer.8.intermediate.dense.weight', 'encoder.layer.4.attention.self.query.bias', 'encoder.layer.5.attention.self.query.weight', 'encoder.layer.8.attention.self.value.bias', 'encoder.layer.5.intermediate.dense.weight', 'pooler.dense.bias', 'encoder.layer.0.output.LayerNorm.weight', 'encoder.layer.8.attention.self.query.weight', 'encoder.layer.7.output.dense.weight', 'encoder.layer.2.output.dense.bias', 'encoder.layer.7.attention.output.LayerNorm.bias', 'encoder.layer.9.intermediate.dense.bias', 'encoder.layer.3.intermediate.dense.weight', 'encoder.layer.9.attention.self.query.bias', 'embeddings.position_embeddings.weight', 'encoder.layer.6.intermediate.dense.bias', 'encoder.layer.0.attention.self.value.bias', 'encoder.layer.4.intermediate.dense.weight', 'encoder.layer.5.attention.output.LayerNorm.weight', 'encoder.layer.8.attention.output.LayerNorm.weight', 'encoder.layer.1.attention.self.key.bias', 'encoder.layer.4.intermediate.dense.bias', 'encoder.layer.7.attention.self.value.weight', 'encoder.layer.3.output.LayerNorm.bias', 'encoder.layer.11.attention.self.query.bias', 'encoder.layer.3.attention.self.query.weight', 'encoder.layer.11.attention.self.value.weight', 'encoder.layer.0.attention.self.key.bias', 'encoder.layer.8.attention.output.LayerNorm.bias', 'encoder.layer.11.intermediate.dense.bias', 'encoder.layer.1.attention.output.dense.weight', 'encoder.layer.2.intermediate.dense.weight', 'encoder.layer.8.attention.self.query.bias', 'encoder.layer.8.output.LayerNorm.bias', 'encoder.layer.10.output.dense.bias', 'encoder.layer.3.attention.self.value.weight', 'encoder.layer.1.output.LayerNorm.bias', 'encoder.layer.10.attention.output.LayerNorm.bias', 'encoder.layer.7.output.LayerNorm.weight', 'encoder.layer.0.intermediate.dense.weight', 'encoder.layer.8.output.dense.bias', 'encoder.layer.11.output.dense.weight', 'encoder.layer.4.attention.self.key.weight', 'encoder.layer.2.intermediate.dense.bias', 'encoder.layer.6.attention.self.query.weight', 'encoder.layer.6.attention.self.query.bias', 'encoder.layer.4.attention.output.LayerNorm.bias', 'encoder.layer.1.attention.self.query.bias', 'encoder.layer.6.output.dense.weight', 'encoder.layer.2.attention.output.LayerNorm.bias', 'encoder.layer.3.attention.self.value.bias', 'encoder.layer.4.attention.output.dense.weight', 'encoder.layer.6.attention.output.dense.bias', 'encoder.layer.5.intermediate.dense.bias', 'encoder.layer.7.attention.self.query.weight', 'pooler.dense.weight', 'encoder.layer.5.attention.output.LayerNorm.bias', 'encoder.layer.0.output.LayerNorm.bias', 'encoder.layer.10.attention.self.value.weight', 'encoder.layer.11.attention.self.query.weight']\n",
            "You should probably TRAIN this model on a down-stream task to be able to use it for predictions and inference.\n"
          ]
        },
        {
          "output_type": "stream",
          "name": "stdout",
          "text": [
            "Layer: embeddings.word_embeddings.weight - Trainable: True\n",
            "Layer: embeddings.position_embeddings.weight - Trainable: True\n",
            "Layer: embeddings.token_type_embeddings.weight - Trainable: True\n",
            "Layer: embeddings.LayerNorm.weight - Trainable: True\n",
            "Layer: embeddings.LayerNorm.bias - Trainable: True\n",
            "Layer: encoder.layer.0.attention.self.query.weight - Trainable: False\n",
            "Layer: encoder.layer.0.attention.self.query.bias - Trainable: False\n",
            "Layer: encoder.layer.0.attention.self.key.weight - Trainable: False\n",
            "Layer: encoder.layer.0.attention.self.key.bias - Trainable: False\n",
            "Layer: encoder.layer.0.attention.self.value.weight - Trainable: False\n",
            "Layer: encoder.layer.0.attention.self.value.bias - Trainable: False\n",
            "Layer: encoder.layer.0.attention.output.dense.weight - Trainable: False\n",
            "Layer: encoder.layer.0.attention.output.dense.bias - Trainable: False\n",
            "Layer: encoder.layer.0.attention.output.LayerNorm.weight - Trainable: False\n",
            "Layer: encoder.layer.0.attention.output.LayerNorm.bias - Trainable: False\n",
            "Layer: encoder.layer.0.intermediate.dense.weight - Trainable: False\n",
            "Layer: encoder.layer.0.intermediate.dense.bias - Trainable: False\n",
            "Layer: encoder.layer.0.output.dense.weight - Trainable: False\n",
            "Layer: encoder.layer.0.output.dense.bias - Trainable: False\n",
            "Layer: encoder.layer.0.output.LayerNorm.weight - Trainable: False\n",
            "Layer: encoder.layer.0.output.LayerNorm.bias - Trainable: False\n",
            "Layer: encoder.layer.1.attention.self.query.weight - Trainable: False\n",
            "Layer: encoder.layer.1.attention.self.query.bias - Trainable: False\n",
            "Layer: encoder.layer.1.attention.self.key.weight - Trainable: False\n",
            "Layer: encoder.layer.1.attention.self.key.bias - Trainable: False\n",
            "Layer: encoder.layer.1.attention.self.value.weight - Trainable: False\n",
            "Layer: encoder.layer.1.attention.self.value.bias - Trainable: False\n",
            "Layer: encoder.layer.1.attention.output.dense.weight - Trainable: False\n",
            "Layer: encoder.layer.1.attention.output.dense.bias - Trainable: False\n",
            "Layer: encoder.layer.1.attention.output.LayerNorm.weight - Trainable: False\n",
            "Layer: encoder.layer.1.attention.output.LayerNorm.bias - Trainable: False\n",
            "Layer: encoder.layer.1.intermediate.dense.weight - Trainable: False\n",
            "Layer: encoder.layer.1.intermediate.dense.bias - Trainable: False\n",
            "Layer: encoder.layer.1.output.dense.weight - Trainable: False\n",
            "Layer: encoder.layer.1.output.dense.bias - Trainable: False\n",
            "Layer: encoder.layer.1.output.LayerNorm.weight - Trainable: False\n",
            "Layer: encoder.layer.1.output.LayerNorm.bias - Trainable: False\n",
            "Layer: encoder.layer.2.attention.self.query.weight - Trainable: False\n",
            "Layer: encoder.layer.2.attention.self.query.bias - Trainable: False\n",
            "Layer: encoder.layer.2.attention.self.key.weight - Trainable: False\n",
            "Layer: encoder.layer.2.attention.self.key.bias - Trainable: False\n",
            "Layer: encoder.layer.2.attention.self.value.weight - Trainable: False\n",
            "Layer: encoder.layer.2.attention.self.value.bias - Trainable: False\n",
            "Layer: encoder.layer.2.attention.output.dense.weight - Trainable: False\n",
            "Layer: encoder.layer.2.attention.output.dense.bias - Trainable: False\n",
            "Layer: encoder.layer.2.attention.output.LayerNorm.weight - Trainable: False\n",
            "Layer: encoder.layer.2.attention.output.LayerNorm.bias - Trainable: False\n",
            "Layer: encoder.layer.2.intermediate.dense.weight - Trainable: False\n",
            "Layer: encoder.layer.2.intermediate.dense.bias - Trainable: False\n",
            "Layer: encoder.layer.2.output.dense.weight - Trainable: False\n",
            "Layer: encoder.layer.2.output.dense.bias - Trainable: False\n",
            "Layer: encoder.layer.2.output.LayerNorm.weight - Trainable: False\n",
            "Layer: encoder.layer.2.output.LayerNorm.bias - Trainable: False\n",
            "Layer: encoder.layer.3.attention.self.query.weight - Trainable: False\n",
            "Layer: encoder.layer.3.attention.self.query.bias - Trainable: False\n",
            "Layer: encoder.layer.3.attention.self.key.weight - Trainable: False\n",
            "Layer: encoder.layer.3.attention.self.key.bias - Trainable: False\n",
            "Layer: encoder.layer.3.attention.self.value.weight - Trainable: False\n",
            "Layer: encoder.layer.3.attention.self.value.bias - Trainable: False\n",
            "Layer: encoder.layer.3.attention.output.dense.weight - Trainable: False\n",
            "Layer: encoder.layer.3.attention.output.dense.bias - Trainable: False\n",
            "Layer: encoder.layer.3.attention.output.LayerNorm.weight - Trainable: False\n",
            "Layer: encoder.layer.3.attention.output.LayerNorm.bias - Trainable: False\n",
            "Layer: encoder.layer.3.intermediate.dense.weight - Trainable: False\n",
            "Layer: encoder.layer.3.intermediate.dense.bias - Trainable: False\n",
            "Layer: encoder.layer.3.output.dense.weight - Trainable: False\n",
            "Layer: encoder.layer.3.output.dense.bias - Trainable: False\n",
            "Layer: encoder.layer.3.output.LayerNorm.weight - Trainable: False\n",
            "Layer: encoder.layer.3.output.LayerNorm.bias - Trainable: False\n",
            "Layer: encoder.layer.4.attention.self.query.weight - Trainable: False\n",
            "Layer: encoder.layer.4.attention.self.query.bias - Trainable: False\n",
            "Layer: encoder.layer.4.attention.self.key.weight - Trainable: False\n",
            "Layer: encoder.layer.4.attention.self.key.bias - Trainable: False\n",
            "Layer: encoder.layer.4.attention.self.value.weight - Trainable: False\n",
            "Layer: encoder.layer.4.attention.self.value.bias - Trainable: False\n",
            "Layer: encoder.layer.4.attention.output.dense.weight - Trainable: False\n",
            "Layer: encoder.layer.4.attention.output.dense.bias - Trainable: False\n",
            "Layer: encoder.layer.4.attention.output.LayerNorm.weight - Trainable: False\n",
            "Layer: encoder.layer.4.attention.output.LayerNorm.bias - Trainable: False\n",
            "Layer: encoder.layer.4.intermediate.dense.weight - Trainable: False\n",
            "Layer: encoder.layer.4.intermediate.dense.bias - Trainable: False\n",
            "Layer: encoder.layer.4.output.dense.weight - Trainable: False\n",
            "Layer: encoder.layer.4.output.dense.bias - Trainable: False\n",
            "Layer: encoder.layer.4.output.LayerNorm.weight - Trainable: False\n",
            "Layer: encoder.layer.4.output.LayerNorm.bias - Trainable: False\n",
            "Layer: encoder.layer.5.attention.self.query.weight - Trainable: False\n",
            "Layer: encoder.layer.5.attention.self.query.bias - Trainable: False\n",
            "Layer: encoder.layer.5.attention.self.key.weight - Trainable: False\n",
            "Layer: encoder.layer.5.attention.self.key.bias - Trainable: False\n",
            "Layer: encoder.layer.5.attention.self.value.weight - Trainable: False\n",
            "Layer: encoder.layer.5.attention.self.value.bias - Trainable: False\n",
            "Layer: encoder.layer.5.attention.output.dense.weight - Trainable: False\n",
            "Layer: encoder.layer.5.attention.output.dense.bias - Trainable: False\n",
            "Layer: encoder.layer.5.attention.output.LayerNorm.weight - Trainable: False\n",
            "Layer: encoder.layer.5.attention.output.LayerNorm.bias - Trainable: False\n",
            "Layer: encoder.layer.5.intermediate.dense.weight - Trainable: False\n",
            "Layer: encoder.layer.5.intermediate.dense.bias - Trainable: False\n",
            "Layer: encoder.layer.5.output.dense.weight - Trainable: False\n",
            "Layer: encoder.layer.5.output.dense.bias - Trainable: False\n",
            "Layer: encoder.layer.5.output.LayerNorm.weight - Trainable: False\n",
            "Layer: encoder.layer.5.output.LayerNorm.bias - Trainable: False\n",
            "Layer: encoder.layer.6.attention.self.query.weight - Trainable: False\n",
            "Layer: encoder.layer.6.attention.self.query.bias - Trainable: False\n",
            "Layer: encoder.layer.6.attention.self.key.weight - Trainable: False\n",
            "Layer: encoder.layer.6.attention.self.key.bias - Trainable: False\n",
            "Layer: encoder.layer.6.attention.self.value.weight - Trainable: False\n",
            "Layer: encoder.layer.6.attention.self.value.bias - Trainable: False\n",
            "Layer: encoder.layer.6.attention.output.dense.weight - Trainable: False\n",
            "Layer: encoder.layer.6.attention.output.dense.bias - Trainable: False\n",
            "Layer: encoder.layer.6.attention.output.LayerNorm.weight - Trainable: False\n",
            "Layer: encoder.layer.6.attention.output.LayerNorm.bias - Trainable: False\n",
            "Layer: encoder.layer.6.intermediate.dense.weight - Trainable: False\n",
            "Layer: encoder.layer.6.intermediate.dense.bias - Trainable: False\n",
            "Layer: encoder.layer.6.output.dense.weight - Trainable: False\n",
            "Layer: encoder.layer.6.output.dense.bias - Trainable: False\n",
            "Layer: encoder.layer.6.output.LayerNorm.weight - Trainable: False\n",
            "Layer: encoder.layer.6.output.LayerNorm.bias - Trainable: False\n",
            "Layer: encoder.layer.7.attention.self.query.weight - Trainable: False\n",
            "Layer: encoder.layer.7.attention.self.query.bias - Trainable: False\n",
            "Layer: encoder.layer.7.attention.self.key.weight - Trainable: False\n",
            "Layer: encoder.layer.7.attention.self.key.bias - Trainable: False\n",
            "Layer: encoder.layer.7.attention.self.value.weight - Trainable: False\n",
            "Layer: encoder.layer.7.attention.self.value.bias - Trainable: False\n",
            "Layer: encoder.layer.7.attention.output.dense.weight - Trainable: False\n",
            "Layer: encoder.layer.7.attention.output.dense.bias - Trainable: False\n",
            "Layer: encoder.layer.7.attention.output.LayerNorm.weight - Trainable: False\n",
            "Layer: encoder.layer.7.attention.output.LayerNorm.bias - Trainable: False\n",
            "Layer: encoder.layer.7.intermediate.dense.weight - Trainable: False\n",
            "Layer: encoder.layer.7.intermediate.dense.bias - Trainable: False\n",
            "Layer: encoder.layer.7.output.dense.weight - Trainable: False\n",
            "Layer: encoder.layer.7.output.dense.bias - Trainable: False\n",
            "Layer: encoder.layer.7.output.LayerNorm.weight - Trainable: False\n",
            "Layer: encoder.layer.7.output.LayerNorm.bias - Trainable: False\n",
            "Layer: encoder.layer.8.attention.self.query.weight - Trainable: False\n",
            "Layer: encoder.layer.8.attention.self.query.bias - Trainable: False\n",
            "Layer: encoder.layer.8.attention.self.key.weight - Trainable: False\n",
            "Layer: encoder.layer.8.attention.self.key.bias - Trainable: False\n",
            "Layer: encoder.layer.8.attention.self.value.weight - Trainable: False\n",
            "Layer: encoder.layer.8.attention.self.value.bias - Trainable: False\n",
            "Layer: encoder.layer.8.attention.output.dense.weight - Trainable: False\n",
            "Layer: encoder.layer.8.attention.output.dense.bias - Trainable: False\n",
            "Layer: encoder.layer.8.attention.output.LayerNorm.weight - Trainable: False\n",
            "Layer: encoder.layer.8.attention.output.LayerNorm.bias - Trainable: False\n",
            "Layer: encoder.layer.8.intermediate.dense.weight - Trainable: False\n",
            "Layer: encoder.layer.8.intermediate.dense.bias - Trainable: False\n",
            "Layer: encoder.layer.8.output.dense.weight - Trainable: False\n",
            "Layer: encoder.layer.8.output.dense.bias - Trainable: False\n",
            "Layer: encoder.layer.8.output.LayerNorm.weight - Trainable: False\n",
            "Layer: encoder.layer.8.output.LayerNorm.bias - Trainable: False\n",
            "Layer: encoder.layer.9.attention.self.query.weight - Trainable: False\n",
            "Layer: encoder.layer.9.attention.self.query.bias - Trainable: False\n",
            "Layer: encoder.layer.9.attention.self.key.weight - Trainable: False\n",
            "Layer: encoder.layer.9.attention.self.key.bias - Trainable: False\n",
            "Layer: encoder.layer.9.attention.self.value.weight - Trainable: False\n",
            "Layer: encoder.layer.9.attention.self.value.bias - Trainable: False\n",
            "Layer: encoder.layer.9.attention.output.dense.weight - Trainable: False\n",
            "Layer: encoder.layer.9.attention.output.dense.bias - Trainable: False\n",
            "Layer: encoder.layer.9.attention.output.LayerNorm.weight - Trainable: False\n",
            "Layer: encoder.layer.9.attention.output.LayerNorm.bias - Trainable: False\n",
            "Layer: encoder.layer.9.intermediate.dense.weight - Trainable: False\n",
            "Layer: encoder.layer.9.intermediate.dense.bias - Trainable: False\n",
            "Layer: encoder.layer.9.output.dense.weight - Trainable: False\n",
            "Layer: encoder.layer.9.output.dense.bias - Trainable: False\n",
            "Layer: encoder.layer.9.output.LayerNorm.weight - Trainable: False\n",
            "Layer: encoder.layer.9.output.LayerNorm.bias - Trainable: False\n",
            "Layer: encoder.layer.10.attention.self.query.weight - Trainable: False\n",
            "Layer: encoder.layer.10.attention.self.query.bias - Trainable: False\n",
            "Layer: encoder.layer.10.attention.self.key.weight - Trainable: False\n",
            "Layer: encoder.layer.10.attention.self.key.bias - Trainable: False\n",
            "Layer: encoder.layer.10.attention.self.value.weight - Trainable: False\n",
            "Layer: encoder.layer.10.attention.self.value.bias - Trainable: False\n",
            "Layer: encoder.layer.10.attention.output.dense.weight - Trainable: False\n",
            "Layer: encoder.layer.10.attention.output.dense.bias - Trainable: False\n",
            "Layer: encoder.layer.10.attention.output.LayerNorm.weight - Trainable: False\n",
            "Layer: encoder.layer.10.attention.output.LayerNorm.bias - Trainable: False\n",
            "Layer: encoder.layer.10.intermediate.dense.weight - Trainable: False\n",
            "Layer: encoder.layer.10.intermediate.dense.bias - Trainable: False\n",
            "Layer: encoder.layer.10.output.dense.weight - Trainable: False\n",
            "Layer: encoder.layer.10.output.dense.bias - Trainable: False\n",
            "Layer: encoder.layer.10.output.LayerNorm.weight - Trainable: False\n",
            "Layer: encoder.layer.10.output.LayerNorm.bias - Trainable: False\n",
            "Layer: encoder.layer.11.attention.self.query.weight - Trainable: False\n",
            "Layer: encoder.layer.11.attention.self.query.bias - Trainable: False\n",
            "Layer: encoder.layer.11.attention.self.key.weight - Trainable: False\n",
            "Layer: encoder.layer.11.attention.self.key.bias - Trainable: False\n",
            "Layer: encoder.layer.11.attention.self.value.weight - Trainable: False\n",
            "Layer: encoder.layer.11.attention.self.value.bias - Trainable: False\n",
            "Layer: encoder.layer.11.attention.output.dense.weight - Trainable: False\n",
            "Layer: encoder.layer.11.attention.output.dense.bias - Trainable: False\n",
            "Layer: encoder.layer.11.attention.output.LayerNorm.weight - Trainable: False\n",
            "Layer: encoder.layer.11.attention.output.LayerNorm.bias - Trainable: False\n",
            "Layer: encoder.layer.11.intermediate.dense.weight - Trainable: False\n",
            "Layer: encoder.layer.11.intermediate.dense.bias - Trainable: False\n",
            "Layer: encoder.layer.11.output.dense.weight - Trainable: False\n",
            "Layer: encoder.layer.11.output.dense.bias - Trainable: False\n",
            "Layer: encoder.layer.11.output.LayerNorm.weight - Trainable: False\n",
            "Layer: encoder.layer.11.output.LayerNorm.bias - Trainable: False\n",
            "Layer: pooler.dense.weight - Trainable: True\n",
            "Layer: pooler.dense.bias - Trainable: True\n"
          ]
        }
      ]
    },
    {
      "cell_type": "code",
      "execution_count": null,
      "metadata": {
        "id": "wbaDTkDVITmN"
      },
      "outputs": [],
      "source": [
        "def get_embeddings(row):\n",
        "    text=row['pre_text']\n",
        "\n",
        "\n",
        "\n",
        "    text_token=tokenizer(text,truncation=True,return_tensors='pt',padding='max_length',max_length=128)\n",
        "\n",
        "\n",
        "\n",
        "    text_input={'input_ids':text_token['input_ids'],'attention_mask':text_token['attention_mask']}\n",
        "\n",
        "\n",
        "    return text_input"
      ]
    },
    {
      "cell_type": "markdown",
      "source": [
        "next time add a attention layer"
      ],
      "metadata": {
        "id": "4H8o2cN-1jAw"
      }
    },
    {
      "cell_type": "code",
      "source": [
        "import torch\n",
        "import torch.nn as nn\n",
        "from transformers import BertModel\n",
        "\n",
        "class our_model(nn.Module):\n",
        "     def __init__(self,bert_modell):\n",
        "         super(our_model, self).__init__()\n",
        "\n",
        "         # Define BERT models\n",
        "         self.bert_model = bert_modell\n",
        "\n",
        "\n",
        "         # Define LSTM\n",
        "         self.lstm1 = nn.LSTM(input_size=768, hidden_size=128, num_layers=1, bidirectional=True, batch_first=True)\n",
        "\n",
        "         self.lstm2 = nn.LSTM(input_size=2*128, hidden_size=128, num_layers=1, bidirectional=True, batch_first=True)\n",
        "         self.lstm3 = nn.LSTM(input_size=2*128, hidden_size=64, num_layers=1, bidirectional=False, batch_first=True)\n",
        "         self.lstm4 = nn.LSTM(input_size=64, hidden_size=64, num_layers=1, bidirectional=False, batch_first=True)\n",
        "\n",
        "\n",
        "\n",
        "\n",
        "         self.dense_layers = nn.Sequential(\n",
        "             nn.Linear(64, 32),\n",
        "             nn.ReLU(),\n",
        "             nn.Dropout(0.3),\n",
        "             nn.Linear(32, 1),\n",
        "         )\n",
        "         #self.dropout=nn.Dropout(0.4)\n",
        "         self.sigmoid = nn.Sigmoid()\n",
        "\n",
        "     def forward(self, text):\n",
        "\n",
        "\n",
        "        text_input_ids = text['input_ids'].squeeze(1).to(device)\n",
        "        text_attention_mask = text['attention_mask'].squeeze(1).to(device)#\n",
        "\n",
        "\n",
        "         # BERT outputs\n",
        "        bert_output = self.bert_model(input_ids=text_input_ids, attention_mask=text_attention_mask).last_hidden_state\n",
        "\n",
        "\n",
        "#         # LSTM\n",
        "        text_lstm_output,(_,_) = self.lstm1(bert_output)\n",
        "        text_lstm_output,(_,_) = self.lstm2(text_lstm_output)\n",
        "\n",
        "        text_lstm_output,(_,_) = self.lstm3(text_lstm_output)\n",
        "\n",
        "\n",
        "        #layer 3\n",
        "        _,(text_lstm_output,_)=self.lstm4(text_lstm_output)\n",
        "\n",
        "\n",
        "\n",
        "         # Dense layers\n",
        "        dense_output = self.dense_layers(text_lstm_output)\n",
        "\n",
        "        output = self.sigmoid(dense_output)\n",
        "        output=output.squeeze(0)\n",
        "        return output"
      ],
      "metadata": {
        "id": "tzZlWQ9kB7uS"
      },
      "execution_count": null,
      "outputs": []
    },
    {
      "cell_type": "code",
      "source": [
        "\n",
        "\n",
        "\n"
      ],
      "metadata": {
        "id": "yqG9fZ_L3kQG"
      },
      "execution_count": null,
      "outputs": []
    },
    {
      "cell_type": "code",
      "execution_count": null,
      "metadata": {
        "id": "x4Y_zz-TM8Ou"
      },
      "outputs": [],
      "source": [
        "# Check if a GPU device is available, otherwise use CPU\n",
        "device = torch.device('cuda' if torch.cuda.is_available() else 'cpu')"
      ]
    },
    {
      "cell_type": "code",
      "source": [
        "batch_size=16"
      ],
      "metadata": {
        "id": "iP5LitRHIXqa"
      },
      "execution_count": null,
      "outputs": []
    },
    {
      "cell_type": "code",
      "execution_count": null,
      "metadata": {
        "id": "mSk6nobBosof"
      },
      "outputs": [],
      "source": [
        "\n",
        "# Create a custom dataset class\n",
        "class CustomDataset(torch.utils.data.Dataset):\n",
        "    def __init__(self, df):\n",
        "        self.df = df\n",
        "    def __len__(self):\n",
        "        return len(self.df)\n",
        "    def __getitem__(self, idx):\n",
        "        row = self.df.loc[idx]\n",
        "        label = row['output']\n",
        "        text_input = get_embeddings(row)\n",
        "        return {'text_input':text_input, 'label': label}\n",
        "\n",
        "# Create an instance of the custom dataset\n",
        "dataset_train = CustomDataset(train_df)\n",
        "# Create a DataLoader to handle batching and shuffling of the data\n",
        "train_data_loader = torch.utils.data.DataLoader(dataset_train, batch_size=batch_size, shuffle=True)\n",
        "\n",
        "dataset_val = CustomDataset(val_df)\n",
        "\n",
        "val_data_loader = torch.utils.data.DataLoader(dataset_val, batch_size=batch_size, shuffle=True)\n"
      ]
    },
    {
      "cell_type": "code",
      "execution_count": null,
      "metadata": {
        "colab": {
          "base_uri": "https://localhost:8080/"
        },
        "id": "qOiBu-nPn8mN",
        "outputId": "94e18168-4879-4be2-c3f6-df01f2676501"
      },
      "outputs": [
        {
          "output_type": "execute_result",
          "data": {
            "text/plain": [
              "our_model(\n",
              "  (bert_model): AlbertModel(\n",
              "    (embeddings): AlbertEmbeddings(\n",
              "      (word_embeddings): Embedding(200000, 128, padding_idx=0)\n",
              "      (position_embeddings): Embedding(512, 128)\n",
              "      (token_type_embeddings): Embedding(2, 128)\n",
              "      (LayerNorm): LayerNorm((128,), eps=1e-12, elementwise_affine=True)\n",
              "      (dropout): Dropout(p=0, inplace=False)\n",
              "    )\n",
              "    (encoder): AlbertTransformer(\n",
              "      (embedding_hidden_mapping_in): Linear(in_features=128, out_features=768, bias=True)\n",
              "      (albert_layer_groups): ModuleList(\n",
              "        (0): AlbertLayerGroup(\n",
              "          (albert_layers): ModuleList(\n",
              "            (0): AlbertLayer(\n",
              "              (full_layer_layer_norm): LayerNorm((768,), eps=1e-12, elementwise_affine=True)\n",
              "              (attention): AlbertAttention(\n",
              "                (query): Linear(in_features=768, out_features=768, bias=True)\n",
              "                (key): Linear(in_features=768, out_features=768, bias=True)\n",
              "                (value): Linear(in_features=768, out_features=768, bias=True)\n",
              "                (attention_dropout): Dropout(p=0, inplace=False)\n",
              "                (output_dropout): Dropout(p=0, inplace=False)\n",
              "                (dense): Linear(in_features=768, out_features=768, bias=True)\n",
              "                (LayerNorm): LayerNorm((768,), eps=1e-12, elementwise_affine=True)\n",
              "              )\n",
              "              (ffn): Linear(in_features=768, out_features=3072, bias=True)\n",
              "              (ffn_output): Linear(in_features=3072, out_features=768, bias=True)\n",
              "              (activation): GELUActivation()\n",
              "              (dropout): Dropout(p=0, inplace=False)\n",
              "            )\n",
              "          )\n",
              "        )\n",
              "      )\n",
              "    )\n",
              "    (pooler): Linear(in_features=768, out_features=768, bias=True)\n",
              "    (pooler_activation): Tanh()\n",
              "  )\n",
              "  (lstm1): LSTM(768, 128, batch_first=True, bidirectional=True)\n",
              "  (lstm2): LSTM(256, 128, batch_first=True, bidirectional=True)\n",
              "  (lstm3): LSTM(256, 64, batch_first=True)\n",
              "  (lstm4): LSTM(64, 64, batch_first=True)\n",
              "  (dense_layers): Sequential(\n",
              "    (0): Linear(in_features=64, out_features=32, bias=True)\n",
              "    (1): ReLU()\n",
              "    (2): Dropout(p=0.3, inplace=False)\n",
              "    (3): Linear(in_features=32, out_features=1, bias=True)\n",
              "  )\n",
              "  (sigmoid): Sigmoid()\n",
              ")"
            ]
          },
          "metadata": {},
          "execution_count": 29
        }
      ],
      "source": [
        "import torch\n",
        "import torch.optim as optim\n",
        "import torch.optim.lr_scheduler as lr_scheduler\n",
        "import torch\n",
        "\n",
        "# Create a new model instance with the extracted BERT layer weights\n",
        "model = our_model(bert_model)\n",
        "\n",
        "\n",
        "\n",
        "device = torch.device(\"cuda\" if torch.cuda.is_available() else \"cpu\")\n",
        "model.to(device)\n"
      ]
    },
    {
      "cell_type": "markdown",
      "metadata": {
        "id": "0DAI1jn9KV0q"
      },
      "source": [
        "the below code is working good 😊\n",
        "\n"
      ]
    },
    {
      "cell_type": "code",
      "source": [
        "model_stats=pd.DataFrame(columns=['epoch','val accuracy','train accuracy','train_loss','val_loss','learning rate'])"
      ],
      "metadata": {
        "id": "JjKwypmbacub"
      },
      "execution_count": null,
      "outputs": []
    },
    {
      "cell_type": "markdown",
      "source": [
        "## training the model"
      ],
      "metadata": {
        "id": "fy8NbKm0KR3d"
      }
    },
    {
      "cell_type": "code",
      "source": [
        "train_batch_number=len(train_data_loader)\n",
        "val_batch_number=len(val_data_loader)\n",
        "print(train_batch_number)\n",
        "print(val_batch_number)"
      ],
      "metadata": {
        "colab": {
          "base_uri": "https://localhost:8080/"
        },
        "id": "NcyVLccbUBod",
        "outputId": "4db35f33-0640-4911-c200-9bb1b4aaffce"
      },
      "execution_count": null,
      "outputs": [
        {
          "output_type": "stream",
          "name": "stdout",
          "text": [
            "227\n",
            "26\n"
          ]
        }
      ]
    },
    {
      "cell_type": "code",
      "source": [
        "import torch.nn.functional as F\n",
        "from torch.optim.lr_scheduler import ReduceLROnPlateau\n",
        "threshold=0.5\n",
        "n_epochs=10\n",
        "loss_fn = nn.BCELoss()\n",
        "# Train the model\n",
        "optimizer = optim.AdamW(model.parameters(), lr=0.0000001, weight_decay=0.001)\n",
        "\n",
        "model.train()\n",
        "total_data=len(train_df)\n",
        "prev_total_loss = None  # Variable to store the previous total_loss\n",
        "best_accuracy=0\n",
        "a=0\n",
        "for epoch in range(n_epochs):\n",
        "    total_loss = 0\n",
        "    total_samples_train = 0\n",
        "    batch_c = 0\n",
        "    correct_predictions_train = 0\n",
        "    optimizer.zero_grad()\n",
        "\n",
        "    for batch in train_data_loader:\n",
        "        batch_c += 1\n",
        "        text_input = batch['text_input']\n",
        "\n",
        "        y_true = batch['label'].unsqueeze(1).float().to(device)\n",
        "        y_pred = model(text_input)\n",
        "\n",
        "\n",
        "        loss = loss_fn(y_pred, y_true)\n",
        "        total_loss += loss.item()\n",
        "        optimizer.zero_grad()\n",
        "        loss.backward()\n",
        "        # torch.nn.utils.clip_grad_norm_(model.parameters(), 1.0)\n",
        "        optimizer.step()\n",
        "\n",
        "        predicted_labels_train = (y_pred >= threshold).float()\n",
        "\n",
        "        total_samples_train += len(y_true)\n",
        "        for j in range(len(predicted_labels_train)):\n",
        "            if y_true[j] == predicted_labels_train[j]:\n",
        "                correct_predictions_train += 1\n",
        "\n",
        "\n",
        "\n",
        "\n",
        "\n",
        "\n",
        "    correct_predictions_val = 0\n",
        "    total_samples_val = 0\n",
        "    total_val_loss=0\n",
        "    for val_batch in val_data_loader:\n",
        "        text_input = val_batch['text_input']\n",
        "\n",
        "        y_true = val_batch['label'].unsqueeze(1).float().to(device)\n",
        "        y_pred = model(text_input)\n",
        "\n",
        "        predicted_labels = (y_pred >= threshold).float()\n",
        "        total_samples_val += len(y_true)\n",
        "        val_loss=loss_fn(y_pred,y_true)\n",
        "        total_val_loss+=val_loss.item()\n",
        "        for j in range(len(predicted_labels)):\n",
        "            if y_true[j] == predicted_labels[j]:\n",
        "                correct_predictions_val += 1\n",
        "    print(\"**********************\")\n",
        "    total_val_loss/=val_batch_number\n",
        "\n",
        "\n",
        "\n",
        "    val_accuracy=(correct_predictions_val / total_samples_val) * 100\n",
        "\n",
        "    train_accuracy=(correct_predictions_train / total_samples_train) * 100\n",
        "\n",
        "    learning_rate=optimizer.param_groups[0]['lr']\n",
        "\n",
        "    total_loss/=train_batch_number\n",
        "    print('Epoch {}.   train accuracy {}.      train loss: {}.     val accuracy : {}.    val loss :  {}.     lr : {}.  '.format(epoch,train_accuracy,total_loss,val_accuracy,total_val_loss,learning_rate))\n",
        "    new_row={'epoch':epoch,'val accuracy':val_accuracy,'train accuracy':train_accuracy,'train_loss':total_loss,'val_loss':total_val_loss,'learning rate':learning_rate}\n",
        "    model_stats=model_stats.append(new_row,ignore_index=True)\n",
        "    # if ( val_accuracy > best_accuracy) :\n",
        "    #     best_accuracy = val_accuracy\n",
        "    #     torch.save(model.state_dict(), location1)\n",
        "    #     print(f\"Saved the best model with validation accuracy: {best_accuracy:.2f}\")\n",
        "    #     torch.save(model, location2)\n",
        "\n",
        "\n",
        "\n",
        "\n"
      ],
      "metadata": {
        "id": "FBpm4jT34bf1",
        "colab": {
          "base_uri": "https://localhost:8080/",
          "height": 242
        },
        "outputId": "6d88aa1f-eeaa-44fc-e573-0d82cb00c96e"
      },
      "execution_count": null,
      "outputs": [
        {
          "output_type": "error",
          "ename": "KeyboardInterrupt",
          "evalue": "ignored",
          "traceback": [
            "\u001b[0;31m---------------------------------------------------------------------------\u001b[0m",
            "\u001b[0;31mKeyboardInterrupt\u001b[0m                         Traceback (most recent call last)",
            "\u001b[0;32m<ipython-input-32-01244febfb42>\u001b[0m in \u001b[0;36m<cell line: 14>\u001b[0;34m()\u001b[0m\n\u001b[1;32m     28\u001b[0m \u001b[0;34m\u001b[0m\u001b[0m\n\u001b[1;32m     29\u001b[0m         \u001b[0mloss\u001b[0m \u001b[0;34m=\u001b[0m \u001b[0mloss_fn\u001b[0m\u001b[0;34m(\u001b[0m\u001b[0my_pred\u001b[0m\u001b[0;34m,\u001b[0m \u001b[0my_true\u001b[0m\u001b[0;34m)\u001b[0m\u001b[0;34m\u001b[0m\u001b[0;34m\u001b[0m\u001b[0m\n\u001b[0;32m---> 30\u001b[0;31m         \u001b[0mtotal_loss\u001b[0m \u001b[0;34m+=\u001b[0m \u001b[0mloss\u001b[0m\u001b[0;34m.\u001b[0m\u001b[0mitem\u001b[0m\u001b[0;34m(\u001b[0m\u001b[0;34m)\u001b[0m\u001b[0;34m\u001b[0m\u001b[0;34m\u001b[0m\u001b[0m\n\u001b[0m\u001b[1;32m     31\u001b[0m         \u001b[0moptimizer\u001b[0m\u001b[0;34m.\u001b[0m\u001b[0mzero_grad\u001b[0m\u001b[0;34m(\u001b[0m\u001b[0;34m)\u001b[0m\u001b[0;34m\u001b[0m\u001b[0;34m\u001b[0m\u001b[0m\n\u001b[1;32m     32\u001b[0m         \u001b[0mloss\u001b[0m\u001b[0;34m.\u001b[0m\u001b[0mbackward\u001b[0m\u001b[0;34m(\u001b[0m\u001b[0;34m)\u001b[0m\u001b[0;34m\u001b[0m\u001b[0;34m\u001b[0m\u001b[0m\n",
            "\u001b[0;31mKeyboardInterrupt\u001b[0m: "
          ]
        }
      ]
    },
    {
      "cell_type": "code",
      "source": [],
      "metadata": {
        "id": "8dg5xPDP3GpX"
      },
      "execution_count": null,
      "outputs": []
    }
  ],
  "metadata": {
    "accelerator": "GPU",
    "colab": {
      "provenance": [],
      "gpuType": "T4"
    },
    "kernelspec": {
      "display_name": "Python 3",
      "name": "python3"
    },
    "language_info": {
      "name": "python"
    },
    "widgets": {
      "application/vnd.jupyter.widget-state+json": {
        "6ad80766a282406ebc6ac30db26900e2": {
          "model_module": "@jupyter-widgets/controls",
          "model_name": "HBoxModel",
          "model_module_version": "1.5.0",
          "state": {
            "_dom_classes": [],
            "_model_module": "@jupyter-widgets/controls",
            "_model_module_version": "1.5.0",
            "_model_name": "HBoxModel",
            "_view_count": null,
            "_view_module": "@jupyter-widgets/controls",
            "_view_module_version": "1.5.0",
            "_view_name": "HBoxView",
            "box_style": "",
            "children": [
              "IPY_MODEL_e2cd272c06a44a2bacd1daafba77e4a8",
              "IPY_MODEL_28152acfca834ede9a4f263e82d21124",
              "IPY_MODEL_699e2d5798df425e87ed74443f6f5e83"
            ],
            "layout": "IPY_MODEL_c04ca21ac33d48a9b8436633c9864d12"
          }
        },
        "e2cd272c06a44a2bacd1daafba77e4a8": {
          "model_module": "@jupyter-widgets/controls",
          "model_name": "HTMLModel",
          "model_module_version": "1.5.0",
          "state": {
            "_dom_classes": [],
            "_model_module": "@jupyter-widgets/controls",
            "_model_module_version": "1.5.0",
            "_model_name": "HTMLModel",
            "_view_count": null,
            "_view_module": "@jupyter-widgets/controls",
            "_view_module_version": "1.5.0",
            "_view_name": "HTMLView",
            "description": "",
            "description_tooltip": null,
            "layout": "IPY_MODEL_7f8d5caffbff4821baf1d5200b0bb9e9",
            "placeholder": "​",
            "style": "IPY_MODEL_9caf5b775ee14398b9bcde4b56fab94d",
            "value": "Downloading (…)okenizer_config.json: 100%"
          }
        },
        "28152acfca834ede9a4f263e82d21124": {
          "model_module": "@jupyter-widgets/controls",
          "model_name": "FloatProgressModel",
          "model_module_version": "1.5.0",
          "state": {
            "_dom_classes": [],
            "_model_module": "@jupyter-widgets/controls",
            "_model_module_version": "1.5.0",
            "_model_name": "FloatProgressModel",
            "_view_count": null,
            "_view_module": "@jupyter-widgets/controls",
            "_view_module_version": "1.5.0",
            "_view_name": "ProgressView",
            "bar_style": "success",
            "description": "",
            "description_tooltip": null,
            "layout": "IPY_MODEL_7697d9b4ae2f4ff68871fc689b55c11e",
            "max": 519,
            "min": 0,
            "orientation": "horizontal",
            "style": "IPY_MODEL_8589f740021d40578971d42a620a4295",
            "value": 519
          }
        },
        "699e2d5798df425e87ed74443f6f5e83": {
          "model_module": "@jupyter-widgets/controls",
          "model_name": "HTMLModel",
          "model_module_version": "1.5.0",
          "state": {
            "_dom_classes": [],
            "_model_module": "@jupyter-widgets/controls",
            "_model_module_version": "1.5.0",
            "_model_name": "HTMLModel",
            "_view_count": null,
            "_view_module": "@jupyter-widgets/controls",
            "_view_module_version": "1.5.0",
            "_view_name": "HTMLView",
            "description": "",
            "description_tooltip": null,
            "layout": "IPY_MODEL_0f721d7f86ea4fedb310571c93bd3a0e",
            "placeholder": "​",
            "style": "IPY_MODEL_b328a677b1bf4617a892bfd411d106dc",
            "value": " 519/519 [00:00&lt;00:00, 12.2kB/s]"
          }
        },
        "c04ca21ac33d48a9b8436633c9864d12": {
          "model_module": "@jupyter-widgets/base",
          "model_name": "LayoutModel",
          "model_module_version": "1.2.0",
          "state": {
            "_model_module": "@jupyter-widgets/base",
            "_model_module_version": "1.2.0",
            "_model_name": "LayoutModel",
            "_view_count": null,
            "_view_module": "@jupyter-widgets/base",
            "_view_module_version": "1.2.0",
            "_view_name": "LayoutView",
            "align_content": null,
            "align_items": null,
            "align_self": null,
            "border": null,
            "bottom": null,
            "display": null,
            "flex": null,
            "flex_flow": null,
            "grid_area": null,
            "grid_auto_columns": null,
            "grid_auto_flow": null,
            "grid_auto_rows": null,
            "grid_column": null,
            "grid_gap": null,
            "grid_row": null,
            "grid_template_areas": null,
            "grid_template_columns": null,
            "grid_template_rows": null,
            "height": null,
            "justify_content": null,
            "justify_items": null,
            "left": null,
            "margin": null,
            "max_height": null,
            "max_width": null,
            "min_height": null,
            "min_width": null,
            "object_fit": null,
            "object_position": null,
            "order": null,
            "overflow": null,
            "overflow_x": null,
            "overflow_y": null,
            "padding": null,
            "right": null,
            "top": null,
            "visibility": null,
            "width": null
          }
        },
        "7f8d5caffbff4821baf1d5200b0bb9e9": {
          "model_module": "@jupyter-widgets/base",
          "model_name": "LayoutModel",
          "model_module_version": "1.2.0",
          "state": {
            "_model_module": "@jupyter-widgets/base",
            "_model_module_version": "1.2.0",
            "_model_name": "LayoutModel",
            "_view_count": null,
            "_view_module": "@jupyter-widgets/base",
            "_view_module_version": "1.2.0",
            "_view_name": "LayoutView",
            "align_content": null,
            "align_items": null,
            "align_self": null,
            "border": null,
            "bottom": null,
            "display": null,
            "flex": null,
            "flex_flow": null,
            "grid_area": null,
            "grid_auto_columns": null,
            "grid_auto_flow": null,
            "grid_auto_rows": null,
            "grid_column": null,
            "grid_gap": null,
            "grid_row": null,
            "grid_template_areas": null,
            "grid_template_columns": null,
            "grid_template_rows": null,
            "height": null,
            "justify_content": null,
            "justify_items": null,
            "left": null,
            "margin": null,
            "max_height": null,
            "max_width": null,
            "min_height": null,
            "min_width": null,
            "object_fit": null,
            "object_position": null,
            "order": null,
            "overflow": null,
            "overflow_x": null,
            "overflow_y": null,
            "padding": null,
            "right": null,
            "top": null,
            "visibility": null,
            "width": null
          }
        },
        "9caf5b775ee14398b9bcde4b56fab94d": {
          "model_module": "@jupyter-widgets/controls",
          "model_name": "DescriptionStyleModel",
          "model_module_version": "1.5.0",
          "state": {
            "_model_module": "@jupyter-widgets/controls",
            "_model_module_version": "1.5.0",
            "_model_name": "DescriptionStyleModel",
            "_view_count": null,
            "_view_module": "@jupyter-widgets/base",
            "_view_module_version": "1.2.0",
            "_view_name": "StyleView",
            "description_width": ""
          }
        },
        "7697d9b4ae2f4ff68871fc689b55c11e": {
          "model_module": "@jupyter-widgets/base",
          "model_name": "LayoutModel",
          "model_module_version": "1.2.0",
          "state": {
            "_model_module": "@jupyter-widgets/base",
            "_model_module_version": "1.2.0",
            "_model_name": "LayoutModel",
            "_view_count": null,
            "_view_module": "@jupyter-widgets/base",
            "_view_module_version": "1.2.0",
            "_view_name": "LayoutView",
            "align_content": null,
            "align_items": null,
            "align_self": null,
            "border": null,
            "bottom": null,
            "display": null,
            "flex": null,
            "flex_flow": null,
            "grid_area": null,
            "grid_auto_columns": null,
            "grid_auto_flow": null,
            "grid_auto_rows": null,
            "grid_column": null,
            "grid_gap": null,
            "grid_row": null,
            "grid_template_areas": null,
            "grid_template_columns": null,
            "grid_template_rows": null,
            "height": null,
            "justify_content": null,
            "justify_items": null,
            "left": null,
            "margin": null,
            "max_height": null,
            "max_width": null,
            "min_height": null,
            "min_width": null,
            "object_fit": null,
            "object_position": null,
            "order": null,
            "overflow": null,
            "overflow_x": null,
            "overflow_y": null,
            "padding": null,
            "right": null,
            "top": null,
            "visibility": null,
            "width": null
          }
        },
        "8589f740021d40578971d42a620a4295": {
          "model_module": "@jupyter-widgets/controls",
          "model_name": "ProgressStyleModel",
          "model_module_version": "1.5.0",
          "state": {
            "_model_module": "@jupyter-widgets/controls",
            "_model_module_version": "1.5.0",
            "_model_name": "ProgressStyleModel",
            "_view_count": null,
            "_view_module": "@jupyter-widgets/base",
            "_view_module_version": "1.2.0",
            "_view_name": "StyleView",
            "bar_color": null,
            "description_width": ""
          }
        },
        "0f721d7f86ea4fedb310571c93bd3a0e": {
          "model_module": "@jupyter-widgets/base",
          "model_name": "LayoutModel",
          "model_module_version": "1.2.0",
          "state": {
            "_model_module": "@jupyter-widgets/base",
            "_model_module_version": "1.2.0",
            "_model_name": "LayoutModel",
            "_view_count": null,
            "_view_module": "@jupyter-widgets/base",
            "_view_module_version": "1.2.0",
            "_view_name": "LayoutView",
            "align_content": null,
            "align_items": null,
            "align_self": null,
            "border": null,
            "bottom": null,
            "display": null,
            "flex": null,
            "flex_flow": null,
            "grid_area": null,
            "grid_auto_columns": null,
            "grid_auto_flow": null,
            "grid_auto_rows": null,
            "grid_column": null,
            "grid_gap": null,
            "grid_row": null,
            "grid_template_areas": null,
            "grid_template_columns": null,
            "grid_template_rows": null,
            "height": null,
            "justify_content": null,
            "justify_items": null,
            "left": null,
            "margin": null,
            "max_height": null,
            "max_width": null,
            "min_height": null,
            "min_width": null,
            "object_fit": null,
            "object_position": null,
            "order": null,
            "overflow": null,
            "overflow_x": null,
            "overflow_y": null,
            "padding": null,
            "right": null,
            "top": null,
            "visibility": null,
            "width": null
          }
        },
        "b328a677b1bf4617a892bfd411d106dc": {
          "model_module": "@jupyter-widgets/controls",
          "model_name": "DescriptionStyleModel",
          "model_module_version": "1.5.0",
          "state": {
            "_model_module": "@jupyter-widgets/controls",
            "_model_module_version": "1.5.0",
            "_model_name": "DescriptionStyleModel",
            "_view_count": null,
            "_view_module": "@jupyter-widgets/base",
            "_view_module_version": "1.2.0",
            "_view_name": "StyleView",
            "description_width": ""
          }
        },
        "63d1c986f43f44c3959e2f46a9651917": {
          "model_module": "@jupyter-widgets/controls",
          "model_name": "HBoxModel",
          "model_module_version": "1.5.0",
          "state": {
            "_dom_classes": [],
            "_model_module": "@jupyter-widgets/controls",
            "_model_module_version": "1.5.0",
            "_model_name": "HBoxModel",
            "_view_count": null,
            "_view_module": "@jupyter-widgets/controls",
            "_view_module_version": "1.5.0",
            "_view_name": "HBoxView",
            "box_style": "",
            "children": [
              "IPY_MODEL_b90e20fbc1ee4e4bb51e6353ed08198f",
              "IPY_MODEL_654392551207459abf83c7ab2d0c8cf0",
              "IPY_MODEL_343caff0cc6c406c8cdaff157e9063a0"
            ],
            "layout": "IPY_MODEL_c9156cae24744743a1bc2c5d5d0f4c55"
          }
        },
        "b90e20fbc1ee4e4bb51e6353ed08198f": {
          "model_module": "@jupyter-widgets/controls",
          "model_name": "HTMLModel",
          "model_module_version": "1.5.0",
          "state": {
            "_dom_classes": [],
            "_model_module": "@jupyter-widgets/controls",
            "_model_module_version": "1.5.0",
            "_model_name": "HTMLModel",
            "_view_count": null,
            "_view_module": "@jupyter-widgets/controls",
            "_view_module_version": "1.5.0",
            "_view_name": "HTMLView",
            "description": "",
            "description_tooltip": null,
            "layout": "IPY_MODEL_a24bb49c3b3645d59b35e6c765643a1c",
            "placeholder": "​",
            "style": "IPY_MODEL_910cf2f9770f4c0d832873deda0fc5db",
            "value": "Downloading (…)solve/main/vocab.txt: 100%"
          }
        },
        "654392551207459abf83c7ab2d0c8cf0": {
          "model_module": "@jupyter-widgets/controls",
          "model_name": "FloatProgressModel",
          "model_module_version": "1.5.0",
          "state": {
            "_dom_classes": [],
            "_model_module": "@jupyter-widgets/controls",
            "_model_module_version": "1.5.0",
            "_model_name": "FloatProgressModel",
            "_view_count": null,
            "_view_module": "@jupyter-widgets/controls",
            "_view_module_version": "1.5.0",
            "_view_name": "ProgressView",
            "bar_style": "success",
            "description": "",
            "description_tooltip": null,
            "layout": "IPY_MODEL_9735bf2bd854462ebfea39288f05c4ec",
            "max": 894060,
            "min": 0,
            "orientation": "horizontal",
            "style": "IPY_MODEL_f7d81565053e4ad5bddb5d846c33f636",
            "value": 894060
          }
        },
        "343caff0cc6c406c8cdaff157e9063a0": {
          "model_module": "@jupyter-widgets/controls",
          "model_name": "HTMLModel",
          "model_module_version": "1.5.0",
          "state": {
            "_dom_classes": [],
            "_model_module": "@jupyter-widgets/controls",
            "_model_module_version": "1.5.0",
            "_model_name": "HTMLModel",
            "_view_count": null,
            "_view_module": "@jupyter-widgets/controls",
            "_view_module_version": "1.5.0",
            "_view_name": "HTMLView",
            "description": "",
            "description_tooltip": null,
            "layout": "IPY_MODEL_8fb16076d39445478295388b378ecdc8",
            "placeholder": "​",
            "style": "IPY_MODEL_83c01b91691f4450a2e9df67ba6d677a",
            "value": " 894k/894k [00:00&lt;00:00, 4.81MB/s]"
          }
        },
        "c9156cae24744743a1bc2c5d5d0f4c55": {
          "model_module": "@jupyter-widgets/base",
          "model_name": "LayoutModel",
          "model_module_version": "1.2.0",
          "state": {
            "_model_module": "@jupyter-widgets/base",
            "_model_module_version": "1.2.0",
            "_model_name": "LayoutModel",
            "_view_count": null,
            "_view_module": "@jupyter-widgets/base",
            "_view_module_version": "1.2.0",
            "_view_name": "LayoutView",
            "align_content": null,
            "align_items": null,
            "align_self": null,
            "border": null,
            "bottom": null,
            "display": null,
            "flex": null,
            "flex_flow": null,
            "grid_area": null,
            "grid_auto_columns": null,
            "grid_auto_flow": null,
            "grid_auto_rows": null,
            "grid_column": null,
            "grid_gap": null,
            "grid_row": null,
            "grid_template_areas": null,
            "grid_template_columns": null,
            "grid_template_rows": null,
            "height": null,
            "justify_content": null,
            "justify_items": null,
            "left": null,
            "margin": null,
            "max_height": null,
            "max_width": null,
            "min_height": null,
            "min_width": null,
            "object_fit": null,
            "object_position": null,
            "order": null,
            "overflow": null,
            "overflow_x": null,
            "overflow_y": null,
            "padding": null,
            "right": null,
            "top": null,
            "visibility": null,
            "width": null
          }
        },
        "a24bb49c3b3645d59b35e6c765643a1c": {
          "model_module": "@jupyter-widgets/base",
          "model_name": "LayoutModel",
          "model_module_version": "1.2.0",
          "state": {
            "_model_module": "@jupyter-widgets/base",
            "_model_module_version": "1.2.0",
            "_model_name": "LayoutModel",
            "_view_count": null,
            "_view_module": "@jupyter-widgets/base",
            "_view_module_version": "1.2.0",
            "_view_name": "LayoutView",
            "align_content": null,
            "align_items": null,
            "align_self": null,
            "border": null,
            "bottom": null,
            "display": null,
            "flex": null,
            "flex_flow": null,
            "grid_area": null,
            "grid_auto_columns": null,
            "grid_auto_flow": null,
            "grid_auto_rows": null,
            "grid_column": null,
            "grid_gap": null,
            "grid_row": null,
            "grid_template_areas": null,
            "grid_template_columns": null,
            "grid_template_rows": null,
            "height": null,
            "justify_content": null,
            "justify_items": null,
            "left": null,
            "margin": null,
            "max_height": null,
            "max_width": null,
            "min_height": null,
            "min_width": null,
            "object_fit": null,
            "object_position": null,
            "order": null,
            "overflow": null,
            "overflow_x": null,
            "overflow_y": null,
            "padding": null,
            "right": null,
            "top": null,
            "visibility": null,
            "width": null
          }
        },
        "910cf2f9770f4c0d832873deda0fc5db": {
          "model_module": "@jupyter-widgets/controls",
          "model_name": "DescriptionStyleModel",
          "model_module_version": "1.5.0",
          "state": {
            "_model_module": "@jupyter-widgets/controls",
            "_model_module_version": "1.5.0",
            "_model_name": "DescriptionStyleModel",
            "_view_count": null,
            "_view_module": "@jupyter-widgets/base",
            "_view_module_version": "1.2.0",
            "_view_name": "StyleView",
            "description_width": ""
          }
        },
        "9735bf2bd854462ebfea39288f05c4ec": {
          "model_module": "@jupyter-widgets/base",
          "model_name": "LayoutModel",
          "model_module_version": "1.2.0",
          "state": {
            "_model_module": "@jupyter-widgets/base",
            "_model_module_version": "1.2.0",
            "_model_name": "LayoutModel",
            "_view_count": null,
            "_view_module": "@jupyter-widgets/base",
            "_view_module_version": "1.2.0",
            "_view_name": "LayoutView",
            "align_content": null,
            "align_items": null,
            "align_self": null,
            "border": null,
            "bottom": null,
            "display": null,
            "flex": null,
            "flex_flow": null,
            "grid_area": null,
            "grid_auto_columns": null,
            "grid_auto_flow": null,
            "grid_auto_rows": null,
            "grid_column": null,
            "grid_gap": null,
            "grid_row": null,
            "grid_template_areas": null,
            "grid_template_columns": null,
            "grid_template_rows": null,
            "height": null,
            "justify_content": null,
            "justify_items": null,
            "left": null,
            "margin": null,
            "max_height": null,
            "max_width": null,
            "min_height": null,
            "min_width": null,
            "object_fit": null,
            "object_position": null,
            "order": null,
            "overflow": null,
            "overflow_x": null,
            "overflow_y": null,
            "padding": null,
            "right": null,
            "top": null,
            "visibility": null,
            "width": null
          }
        },
        "f7d81565053e4ad5bddb5d846c33f636": {
          "model_module": "@jupyter-widgets/controls",
          "model_name": "ProgressStyleModel",
          "model_module_version": "1.5.0",
          "state": {
            "_model_module": "@jupyter-widgets/controls",
            "_model_module_version": "1.5.0",
            "_model_name": "ProgressStyleModel",
            "_view_count": null,
            "_view_module": "@jupyter-widgets/base",
            "_view_module_version": "1.2.0",
            "_view_name": "StyleView",
            "bar_color": null,
            "description_width": ""
          }
        },
        "8fb16076d39445478295388b378ecdc8": {
          "model_module": "@jupyter-widgets/base",
          "model_name": "LayoutModel",
          "model_module_version": "1.2.0",
          "state": {
            "_model_module": "@jupyter-widgets/base",
            "_model_module_version": "1.2.0",
            "_model_name": "LayoutModel",
            "_view_count": null,
            "_view_module": "@jupyter-widgets/base",
            "_view_module_version": "1.2.0",
            "_view_name": "LayoutView",
            "align_content": null,
            "align_items": null,
            "align_self": null,
            "border": null,
            "bottom": null,
            "display": null,
            "flex": null,
            "flex_flow": null,
            "grid_area": null,
            "grid_auto_columns": null,
            "grid_auto_flow": null,
            "grid_auto_rows": null,
            "grid_column": null,
            "grid_gap": null,
            "grid_row": null,
            "grid_template_areas": null,
            "grid_template_columns": null,
            "grid_template_rows": null,
            "height": null,
            "justify_content": null,
            "justify_items": null,
            "left": null,
            "margin": null,
            "max_height": null,
            "max_width": null,
            "min_height": null,
            "min_width": null,
            "object_fit": null,
            "object_position": null,
            "order": null,
            "overflow": null,
            "overflow_x": null,
            "overflow_y": null,
            "padding": null,
            "right": null,
            "top": null,
            "visibility": null,
            "width": null
          }
        },
        "83c01b91691f4450a2e9df67ba6d677a": {
          "model_module": "@jupyter-widgets/controls",
          "model_name": "DescriptionStyleModel",
          "model_module_version": "1.5.0",
          "state": {
            "_model_module": "@jupyter-widgets/controls",
            "_model_module_version": "1.5.0",
            "_model_name": "DescriptionStyleModel",
            "_view_count": null,
            "_view_module": "@jupyter-widgets/base",
            "_view_module_version": "1.2.0",
            "_view_name": "StyleView",
            "description_width": ""
          }
        },
        "e1537f5439a84eb6a2c015ed5bcb2ffe": {
          "model_module": "@jupyter-widgets/controls",
          "model_name": "HBoxModel",
          "model_module_version": "1.5.0",
          "state": {
            "_dom_classes": [],
            "_model_module": "@jupyter-widgets/controls",
            "_model_module_version": "1.5.0",
            "_model_name": "HBoxModel",
            "_view_count": null,
            "_view_module": "@jupyter-widgets/controls",
            "_view_module_version": "1.5.0",
            "_view_name": "HBoxView",
            "box_style": "",
            "children": [
              "IPY_MODEL_ce91694312ae45b38851576bde59bbf6",
              "IPY_MODEL_3a5c1fd15a8a4d2a93c4e7ee595bde07",
              "IPY_MODEL_8721513aa40d4935a5b4aebde9157a1b"
            ],
            "layout": "IPY_MODEL_dde6be7c09414e16a111ff624af76a05"
          }
        },
        "ce91694312ae45b38851576bde59bbf6": {
          "model_module": "@jupyter-widgets/controls",
          "model_name": "HTMLModel",
          "model_module_version": "1.5.0",
          "state": {
            "_dom_classes": [],
            "_model_module": "@jupyter-widgets/controls",
            "_model_module_version": "1.5.0",
            "_model_name": "HTMLModel",
            "_view_count": null,
            "_view_module": "@jupyter-widgets/controls",
            "_view_module_version": "1.5.0",
            "_view_name": "HTMLView",
            "description": "",
            "description_tooltip": null,
            "layout": "IPY_MODEL_90513873338544928375a3dc7569a63e",
            "placeholder": "​",
            "style": "IPY_MODEL_fb764bd443e2433c9a170ef08ed4e57b",
            "value": "Downloading (…)/main/tokenizer.json: 100%"
          }
        },
        "3a5c1fd15a8a4d2a93c4e7ee595bde07": {
          "model_module": "@jupyter-widgets/controls",
          "model_name": "FloatProgressModel",
          "model_module_version": "1.5.0",
          "state": {
            "_dom_classes": [],
            "_model_module": "@jupyter-widgets/controls",
            "_model_module_version": "1.5.0",
            "_model_name": "FloatProgressModel",
            "_view_count": null,
            "_view_module": "@jupyter-widgets/controls",
            "_view_module_version": "1.5.0",
            "_view_name": "ProgressView",
            "bar_style": "success",
            "description": "",
            "description_tooltip": null,
            "layout": "IPY_MODEL_3e09162f7b72428b8f0886da44480a9f",
            "max": 1685582,
            "min": 0,
            "orientation": "horizontal",
            "style": "IPY_MODEL_2dca2bc9191645acb01b82be411350ba",
            "value": 1685582
          }
        },
        "8721513aa40d4935a5b4aebde9157a1b": {
          "model_module": "@jupyter-widgets/controls",
          "model_name": "HTMLModel",
          "model_module_version": "1.5.0",
          "state": {
            "_dom_classes": [],
            "_model_module": "@jupyter-widgets/controls",
            "_model_module_version": "1.5.0",
            "_model_name": "HTMLModel",
            "_view_count": null,
            "_view_module": "@jupyter-widgets/controls",
            "_view_module_version": "1.5.0",
            "_view_name": "HTMLView",
            "description": "",
            "description_tooltip": null,
            "layout": "IPY_MODEL_3d8e481bc24a4205bcfc68fc7778b469",
            "placeholder": "​",
            "style": "IPY_MODEL_043f748b4fd547f19cf70f1622f2ece6",
            "value": " 1.69M/1.69M [00:00&lt;00:00, 6.63MB/s]"
          }
        },
        "dde6be7c09414e16a111ff624af76a05": {
          "model_module": "@jupyter-widgets/base",
          "model_name": "LayoutModel",
          "model_module_version": "1.2.0",
          "state": {
            "_model_module": "@jupyter-widgets/base",
            "_model_module_version": "1.2.0",
            "_model_name": "LayoutModel",
            "_view_count": null,
            "_view_module": "@jupyter-widgets/base",
            "_view_module_version": "1.2.0",
            "_view_name": "LayoutView",
            "align_content": null,
            "align_items": null,
            "align_self": null,
            "border": null,
            "bottom": null,
            "display": null,
            "flex": null,
            "flex_flow": null,
            "grid_area": null,
            "grid_auto_columns": null,
            "grid_auto_flow": null,
            "grid_auto_rows": null,
            "grid_column": null,
            "grid_gap": null,
            "grid_row": null,
            "grid_template_areas": null,
            "grid_template_columns": null,
            "grid_template_rows": null,
            "height": null,
            "justify_content": null,
            "justify_items": null,
            "left": null,
            "margin": null,
            "max_height": null,
            "max_width": null,
            "min_height": null,
            "min_width": null,
            "object_fit": null,
            "object_position": null,
            "order": null,
            "overflow": null,
            "overflow_x": null,
            "overflow_y": null,
            "padding": null,
            "right": null,
            "top": null,
            "visibility": null,
            "width": null
          }
        },
        "90513873338544928375a3dc7569a63e": {
          "model_module": "@jupyter-widgets/base",
          "model_name": "LayoutModel",
          "model_module_version": "1.2.0",
          "state": {
            "_model_module": "@jupyter-widgets/base",
            "_model_module_version": "1.2.0",
            "_model_name": "LayoutModel",
            "_view_count": null,
            "_view_module": "@jupyter-widgets/base",
            "_view_module_version": "1.2.0",
            "_view_name": "LayoutView",
            "align_content": null,
            "align_items": null,
            "align_self": null,
            "border": null,
            "bottom": null,
            "display": null,
            "flex": null,
            "flex_flow": null,
            "grid_area": null,
            "grid_auto_columns": null,
            "grid_auto_flow": null,
            "grid_auto_rows": null,
            "grid_column": null,
            "grid_gap": null,
            "grid_row": null,
            "grid_template_areas": null,
            "grid_template_columns": null,
            "grid_template_rows": null,
            "height": null,
            "justify_content": null,
            "justify_items": null,
            "left": null,
            "margin": null,
            "max_height": null,
            "max_width": null,
            "min_height": null,
            "min_width": null,
            "object_fit": null,
            "object_position": null,
            "order": null,
            "overflow": null,
            "overflow_x": null,
            "overflow_y": null,
            "padding": null,
            "right": null,
            "top": null,
            "visibility": null,
            "width": null
          }
        },
        "fb764bd443e2433c9a170ef08ed4e57b": {
          "model_module": "@jupyter-widgets/controls",
          "model_name": "DescriptionStyleModel",
          "model_module_version": "1.5.0",
          "state": {
            "_model_module": "@jupyter-widgets/controls",
            "_model_module_version": "1.5.0",
            "_model_name": "DescriptionStyleModel",
            "_view_count": null,
            "_view_module": "@jupyter-widgets/base",
            "_view_module_version": "1.2.0",
            "_view_name": "StyleView",
            "description_width": ""
          }
        },
        "3e09162f7b72428b8f0886da44480a9f": {
          "model_module": "@jupyter-widgets/base",
          "model_name": "LayoutModel",
          "model_module_version": "1.2.0",
          "state": {
            "_model_module": "@jupyter-widgets/base",
            "_model_module_version": "1.2.0",
            "_model_name": "LayoutModel",
            "_view_count": null,
            "_view_module": "@jupyter-widgets/base",
            "_view_module_version": "1.2.0",
            "_view_name": "LayoutView",
            "align_content": null,
            "align_items": null,
            "align_self": null,
            "border": null,
            "bottom": null,
            "display": null,
            "flex": null,
            "flex_flow": null,
            "grid_area": null,
            "grid_auto_columns": null,
            "grid_auto_flow": null,
            "grid_auto_rows": null,
            "grid_column": null,
            "grid_gap": null,
            "grid_row": null,
            "grid_template_areas": null,
            "grid_template_columns": null,
            "grid_template_rows": null,
            "height": null,
            "justify_content": null,
            "justify_items": null,
            "left": null,
            "margin": null,
            "max_height": null,
            "max_width": null,
            "min_height": null,
            "min_width": null,
            "object_fit": null,
            "object_position": null,
            "order": null,
            "overflow": null,
            "overflow_x": null,
            "overflow_y": null,
            "padding": null,
            "right": null,
            "top": null,
            "visibility": null,
            "width": null
          }
        },
        "2dca2bc9191645acb01b82be411350ba": {
          "model_module": "@jupyter-widgets/controls",
          "model_name": "ProgressStyleModel",
          "model_module_version": "1.5.0",
          "state": {
            "_model_module": "@jupyter-widgets/controls",
            "_model_module_version": "1.5.0",
            "_model_name": "ProgressStyleModel",
            "_view_count": null,
            "_view_module": "@jupyter-widgets/base",
            "_view_module_version": "1.2.0",
            "_view_name": "StyleView",
            "bar_color": null,
            "description_width": ""
          }
        },
        "3d8e481bc24a4205bcfc68fc7778b469": {
          "model_module": "@jupyter-widgets/base",
          "model_name": "LayoutModel",
          "model_module_version": "1.2.0",
          "state": {
            "_model_module": "@jupyter-widgets/base",
            "_model_module_version": "1.2.0",
            "_model_name": "LayoutModel",
            "_view_count": null,
            "_view_module": "@jupyter-widgets/base",
            "_view_module_version": "1.2.0",
            "_view_name": "LayoutView",
            "align_content": null,
            "align_items": null,
            "align_self": null,
            "border": null,
            "bottom": null,
            "display": null,
            "flex": null,
            "flex_flow": null,
            "grid_area": null,
            "grid_auto_columns": null,
            "grid_auto_flow": null,
            "grid_auto_rows": null,
            "grid_column": null,
            "grid_gap": null,
            "grid_row": null,
            "grid_template_areas": null,
            "grid_template_columns": null,
            "grid_template_rows": null,
            "height": null,
            "justify_content": null,
            "justify_items": null,
            "left": null,
            "margin": null,
            "max_height": null,
            "max_width": null,
            "min_height": null,
            "min_width": null,
            "object_fit": null,
            "object_position": null,
            "order": null,
            "overflow": null,
            "overflow_x": null,
            "overflow_y": null,
            "padding": null,
            "right": null,
            "top": null,
            "visibility": null,
            "width": null
          }
        },
        "043f748b4fd547f19cf70f1622f2ece6": {
          "model_module": "@jupyter-widgets/controls",
          "model_name": "DescriptionStyleModel",
          "model_module_version": "1.5.0",
          "state": {
            "_model_module": "@jupyter-widgets/controls",
            "_model_module_version": "1.5.0",
            "_model_name": "DescriptionStyleModel",
            "_view_count": null,
            "_view_module": "@jupyter-widgets/base",
            "_view_module_version": "1.2.0",
            "_view_name": "StyleView",
            "description_width": ""
          }
        },
        "6557e756ac5a444b8690b3183005d446": {
          "model_module": "@jupyter-widgets/controls",
          "model_name": "HBoxModel",
          "model_module_version": "1.5.0",
          "state": {
            "_dom_classes": [],
            "_model_module": "@jupyter-widgets/controls",
            "_model_module_version": "1.5.0",
            "_model_name": "HBoxModel",
            "_view_count": null,
            "_view_module": "@jupyter-widgets/controls",
            "_view_module_version": "1.5.0",
            "_view_name": "HBoxView",
            "box_style": "",
            "children": [
              "IPY_MODEL_1aff7e36ac3c466abd2b059af3fd6a0c",
              "IPY_MODEL_9579439f102e46e789e79a7a12465435",
              "IPY_MODEL_3c87080774284534ae3a4559f3f8e16b"
            ],
            "layout": "IPY_MODEL_165d0e59f4ee404a8d8327233d9491d8"
          }
        },
        "1aff7e36ac3c466abd2b059af3fd6a0c": {
          "model_module": "@jupyter-widgets/controls",
          "model_name": "HTMLModel",
          "model_module_version": "1.5.0",
          "state": {
            "_dom_classes": [],
            "_model_module": "@jupyter-widgets/controls",
            "_model_module_version": "1.5.0",
            "_model_name": "HTMLModel",
            "_view_count": null,
            "_view_module": "@jupyter-widgets/controls",
            "_view_module_version": "1.5.0",
            "_view_name": "HTMLView",
            "description": "",
            "description_tooltip": null,
            "layout": "IPY_MODEL_3a11b94af3aa40fda47f695a3ff7655d",
            "placeholder": "​",
            "style": "IPY_MODEL_cb09893caca24e1b95aa9fd467e72a79",
            "value": "Downloading (…)cial_tokens_map.json: 100%"
          }
        },
        "9579439f102e46e789e79a7a12465435": {
          "model_module": "@jupyter-widgets/controls",
          "model_name": "FloatProgressModel",
          "model_module_version": "1.5.0",
          "state": {
            "_dom_classes": [],
            "_model_module": "@jupyter-widgets/controls",
            "_model_module_version": "1.5.0",
            "_model_name": "FloatProgressModel",
            "_view_count": null,
            "_view_module": "@jupyter-widgets/controls",
            "_view_module_version": "1.5.0",
            "_view_name": "ProgressView",
            "bar_style": "success",
            "description": "",
            "description_tooltip": null,
            "layout": "IPY_MODEL_de3f12932e2f4e6cba715576b0d9f187",
            "max": 125,
            "min": 0,
            "orientation": "horizontal",
            "style": "IPY_MODEL_baa39be48812462a924639bf9938738c",
            "value": 125
          }
        },
        "3c87080774284534ae3a4559f3f8e16b": {
          "model_module": "@jupyter-widgets/controls",
          "model_name": "HTMLModel",
          "model_module_version": "1.5.0",
          "state": {
            "_dom_classes": [],
            "_model_module": "@jupyter-widgets/controls",
            "_model_module_version": "1.5.0",
            "_model_name": "HTMLModel",
            "_view_count": null,
            "_view_module": "@jupyter-widgets/controls",
            "_view_module_version": "1.5.0",
            "_view_name": "HTMLView",
            "description": "",
            "description_tooltip": null,
            "layout": "IPY_MODEL_69ebc9b62e5e4a7eab5fdc6cc7e1d8cf",
            "placeholder": "​",
            "style": "IPY_MODEL_c10d0bb438a644f7aedc918bb3494980",
            "value": " 125/125 [00:00&lt;00:00, 2.89kB/s]"
          }
        },
        "165d0e59f4ee404a8d8327233d9491d8": {
          "model_module": "@jupyter-widgets/base",
          "model_name": "LayoutModel",
          "model_module_version": "1.2.0",
          "state": {
            "_model_module": "@jupyter-widgets/base",
            "_model_module_version": "1.2.0",
            "_model_name": "LayoutModel",
            "_view_count": null,
            "_view_module": "@jupyter-widgets/base",
            "_view_module_version": "1.2.0",
            "_view_name": "LayoutView",
            "align_content": null,
            "align_items": null,
            "align_self": null,
            "border": null,
            "bottom": null,
            "display": null,
            "flex": null,
            "flex_flow": null,
            "grid_area": null,
            "grid_auto_columns": null,
            "grid_auto_flow": null,
            "grid_auto_rows": null,
            "grid_column": null,
            "grid_gap": null,
            "grid_row": null,
            "grid_template_areas": null,
            "grid_template_columns": null,
            "grid_template_rows": null,
            "height": null,
            "justify_content": null,
            "justify_items": null,
            "left": null,
            "margin": null,
            "max_height": null,
            "max_width": null,
            "min_height": null,
            "min_width": null,
            "object_fit": null,
            "object_position": null,
            "order": null,
            "overflow": null,
            "overflow_x": null,
            "overflow_y": null,
            "padding": null,
            "right": null,
            "top": null,
            "visibility": null,
            "width": null
          }
        },
        "3a11b94af3aa40fda47f695a3ff7655d": {
          "model_module": "@jupyter-widgets/base",
          "model_name": "LayoutModel",
          "model_module_version": "1.2.0",
          "state": {
            "_model_module": "@jupyter-widgets/base",
            "_model_module_version": "1.2.0",
            "_model_name": "LayoutModel",
            "_view_count": null,
            "_view_module": "@jupyter-widgets/base",
            "_view_module_version": "1.2.0",
            "_view_name": "LayoutView",
            "align_content": null,
            "align_items": null,
            "align_self": null,
            "border": null,
            "bottom": null,
            "display": null,
            "flex": null,
            "flex_flow": null,
            "grid_area": null,
            "grid_auto_columns": null,
            "grid_auto_flow": null,
            "grid_auto_rows": null,
            "grid_column": null,
            "grid_gap": null,
            "grid_row": null,
            "grid_template_areas": null,
            "grid_template_columns": null,
            "grid_template_rows": null,
            "height": null,
            "justify_content": null,
            "justify_items": null,
            "left": null,
            "margin": null,
            "max_height": null,
            "max_width": null,
            "min_height": null,
            "min_width": null,
            "object_fit": null,
            "object_position": null,
            "order": null,
            "overflow": null,
            "overflow_x": null,
            "overflow_y": null,
            "padding": null,
            "right": null,
            "top": null,
            "visibility": null,
            "width": null
          }
        },
        "cb09893caca24e1b95aa9fd467e72a79": {
          "model_module": "@jupyter-widgets/controls",
          "model_name": "DescriptionStyleModel",
          "model_module_version": "1.5.0",
          "state": {
            "_model_module": "@jupyter-widgets/controls",
            "_model_module_version": "1.5.0",
            "_model_name": "DescriptionStyleModel",
            "_view_count": null,
            "_view_module": "@jupyter-widgets/base",
            "_view_module_version": "1.2.0",
            "_view_name": "StyleView",
            "description_width": ""
          }
        },
        "de3f12932e2f4e6cba715576b0d9f187": {
          "model_module": "@jupyter-widgets/base",
          "model_name": "LayoutModel",
          "model_module_version": "1.2.0",
          "state": {
            "_model_module": "@jupyter-widgets/base",
            "_model_module_version": "1.2.0",
            "_model_name": "LayoutModel",
            "_view_count": null,
            "_view_module": "@jupyter-widgets/base",
            "_view_module_version": "1.2.0",
            "_view_name": "LayoutView",
            "align_content": null,
            "align_items": null,
            "align_self": null,
            "border": null,
            "bottom": null,
            "display": null,
            "flex": null,
            "flex_flow": null,
            "grid_area": null,
            "grid_auto_columns": null,
            "grid_auto_flow": null,
            "grid_auto_rows": null,
            "grid_column": null,
            "grid_gap": null,
            "grid_row": null,
            "grid_template_areas": null,
            "grid_template_columns": null,
            "grid_template_rows": null,
            "height": null,
            "justify_content": null,
            "justify_items": null,
            "left": null,
            "margin": null,
            "max_height": null,
            "max_width": null,
            "min_height": null,
            "min_width": null,
            "object_fit": null,
            "object_position": null,
            "order": null,
            "overflow": null,
            "overflow_x": null,
            "overflow_y": null,
            "padding": null,
            "right": null,
            "top": null,
            "visibility": null,
            "width": null
          }
        },
        "baa39be48812462a924639bf9938738c": {
          "model_module": "@jupyter-widgets/controls",
          "model_name": "ProgressStyleModel",
          "model_module_version": "1.5.0",
          "state": {
            "_model_module": "@jupyter-widgets/controls",
            "_model_module_version": "1.5.0",
            "_model_name": "ProgressStyleModel",
            "_view_count": null,
            "_view_module": "@jupyter-widgets/base",
            "_view_module_version": "1.2.0",
            "_view_name": "StyleView",
            "bar_color": null,
            "description_width": ""
          }
        },
        "69ebc9b62e5e4a7eab5fdc6cc7e1d8cf": {
          "model_module": "@jupyter-widgets/base",
          "model_name": "LayoutModel",
          "model_module_version": "1.2.0",
          "state": {
            "_model_module": "@jupyter-widgets/base",
            "_model_module_version": "1.2.0",
            "_model_name": "LayoutModel",
            "_view_count": null,
            "_view_module": "@jupyter-widgets/base",
            "_view_module_version": "1.2.0",
            "_view_name": "LayoutView",
            "align_content": null,
            "align_items": null,
            "align_self": null,
            "border": null,
            "bottom": null,
            "display": null,
            "flex": null,
            "flex_flow": null,
            "grid_area": null,
            "grid_auto_columns": null,
            "grid_auto_flow": null,
            "grid_auto_rows": null,
            "grid_column": null,
            "grid_gap": null,
            "grid_row": null,
            "grid_template_areas": null,
            "grid_template_columns": null,
            "grid_template_rows": null,
            "height": null,
            "justify_content": null,
            "justify_items": null,
            "left": null,
            "margin": null,
            "max_height": null,
            "max_width": null,
            "min_height": null,
            "min_width": null,
            "object_fit": null,
            "object_position": null,
            "order": null,
            "overflow": null,
            "overflow_x": null,
            "overflow_y": null,
            "padding": null,
            "right": null,
            "top": null,
            "visibility": null,
            "width": null
          }
        },
        "c10d0bb438a644f7aedc918bb3494980": {
          "model_module": "@jupyter-widgets/controls",
          "model_name": "DescriptionStyleModel",
          "model_module_version": "1.5.0",
          "state": {
            "_model_module": "@jupyter-widgets/controls",
            "_model_module_version": "1.5.0",
            "_model_name": "DescriptionStyleModel",
            "_view_count": null,
            "_view_module": "@jupyter-widgets/base",
            "_view_module_version": "1.2.0",
            "_view_name": "StyleView",
            "description_width": ""
          }
        }
      }
    }
  },
  "nbformat": 4,
  "nbformat_minor": 0
}