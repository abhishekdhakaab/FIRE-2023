{
  "nbformat": 4,
  "nbformat_minor": 0,
  "metadata": {
    "colab": {
      "provenance": []
    },
    "kernelspec": {
      "name": "python3",
      "display_name": "Python 3"
    },
    "language_info": {
      "name": "python"
    }
  },
  "cells": [
    {
      "cell_type": "code",
      "execution_count": null,
      "metadata": {
        "colab": {
          "base_uri": "https://localhost:8080/"
        },
        "id": "EaFY-_kLkKOz",
        "outputId": "66d3dda3-da6e-4287-e26e-421cbebbb508"
      },
      "outputs": [
        {
          "output_type": "stream",
          "name": "stdout",
          "text": [
            "Mounted at /content/drive\n"
          ]
        }
      ],
      "source": [
        "from google.colab import drive\n",
        "drive.mount('/content/drive')"
      ]
    },
    {
      "cell_type": "code",
      "source": [
        "!pip install fasttext"
      ],
      "metadata": {
        "colab": {
          "base_uri": "https://localhost:8080/"
        },
        "id": "8noY2moskmk9",
        "outputId": "d0fb0751-506d-4ff8-dd0c-4d4d411ebc1d"
      },
      "execution_count": null,
      "outputs": [
        {
          "output_type": "stream",
          "name": "stdout",
          "text": [
            "Collecting fasttext\n",
            "  Downloading fasttext-0.9.2.tar.gz (68 kB)\n",
            "\u001b[?25l     \u001b[90m━━━━━━━━━━━━━━━━━━━━━━━━━━━━━━━━━━━━━━━━\u001b[0m \u001b[32m0.0/68.8 kB\u001b[0m \u001b[31m?\u001b[0m eta \u001b[36m-:--:--\u001b[0m\r\u001b[2K     \u001b[91m━━━━━━━━━━━━━━━━━━━━━━━━━━━━━━━━━━━\u001b[0m\u001b[91m╸\u001b[0m\u001b[90m━━━━\u001b[0m \u001b[32m61.4/68.8 kB\u001b[0m \u001b[31m2.0 MB/s\u001b[0m eta \u001b[36m0:00:01\u001b[0m\r\u001b[2K     \u001b[90m━━━━━━━━━━━━━━━━━━━━━━━━━━━━━━━━━━━━━━━━\u001b[0m \u001b[32m68.8/68.8 kB\u001b[0m \u001b[31m1.6 MB/s\u001b[0m eta \u001b[36m0:00:00\u001b[0m\n",
            "\u001b[?25h  Preparing metadata (setup.py) ... \u001b[?25l\u001b[?25hdone\n",
            "Collecting pybind11>=2.2 (from fasttext)\n",
            "  Using cached pybind11-2.11.1-py3-none-any.whl (227 kB)\n",
            "Requirement already satisfied: setuptools>=0.7.0 in /usr/local/lib/python3.10/dist-packages (from fasttext) (67.7.2)\n",
            "Requirement already satisfied: numpy in /usr/local/lib/python3.10/dist-packages (from fasttext) (1.23.5)\n",
            "Building wheels for collected packages: fasttext\n",
            "  Building wheel for fasttext (setup.py) ... \u001b[?25l\u001b[?25hdone\n",
            "  Created wheel for fasttext: filename=fasttext-0.9.2-cp310-cp310-linux_x86_64.whl size=4199770 sha256=4c28d4f331e9021bfbae96c0f803e1685dfc82e4fbb63b64b2c331c517790e08\n",
            "  Stored in directory: /root/.cache/pip/wheels/a5/13/75/f811c84a8ab36eedbaef977a6a58a98990e8e0f1967f98f394\n",
            "Successfully built fasttext\n",
            "Installing collected packages: pybind11, fasttext\n",
            "Successfully installed fasttext-0.9.2 pybind11-2.11.1\n"
          ]
        }
      ]
    },
    {
      "cell_type": "code",
      "source": [
        "import fasttext\n",
        "\n",
        "# Replace 'path_to_model.bin' with the actual path to your .bin file\n",
        "fasttext_model = fasttext.load_model('/content/drive/MyDrive/hate rate/task 1/embedding/Sinhala/cc.si.300.bin')\n"
      ],
      "metadata": {
        "colab": {
          "base_uri": "https://localhost:8080/"
        },
        "id": "--rcf2dNkohj",
        "outputId": "9a08e10d-d5af-43fd-bea5-2ec2b989f8a4"
      },
      "execution_count": null,
      "outputs": [
        {
          "output_type": "stream",
          "name": "stderr",
          "text": [
            "Warning : `load_model` does not return WordVectorModel or SupervisedModel any more, but a `FastText` object which is very similar.\n"
          ]
        }
      ]
    },
    {
      "cell_type": "code",
      "source": [
        "!pip install seqeval"
      ],
      "metadata": {
        "colab": {
          "base_uri": "https://localhost:8080/"
        },
        "id": "oK4q6ZjvmXSq",
        "outputId": "fe9a3c48-d701-40d2-f0ae-b2217ee8643e"
      },
      "execution_count": null,
      "outputs": [
        {
          "output_type": "stream",
          "name": "stdout",
          "text": [
            "Collecting seqeval\n",
            "  Downloading seqeval-1.2.2.tar.gz (43 kB)\n",
            "\u001b[?25l     \u001b[90m━━━━━━━━━━━━━━━━━━━━━━━━━━━━━━━━━━━━━━━━\u001b[0m \u001b[32m0.0/43.6 kB\u001b[0m \u001b[31m?\u001b[0m eta \u001b[36m-:--:--\u001b[0m\r\u001b[2K     \u001b[90m━━━━━━━━━━━━━━━━━━━━━━━━━━━━━━━━━━━━━━━━\u001b[0m \u001b[32m43.6/43.6 kB\u001b[0m \u001b[31m1.3 MB/s\u001b[0m eta \u001b[36m0:00:00\u001b[0m\n",
            "\u001b[?25h  Preparing metadata (setup.py) ... \u001b[?25l\u001b[?25hdone\n",
            "Requirement already satisfied: numpy>=1.14.0 in /usr/local/lib/python3.10/dist-packages (from seqeval) (1.23.5)\n",
            "Requirement already satisfied: scikit-learn>=0.21.3 in /usr/local/lib/python3.10/dist-packages (from seqeval) (1.2.2)\n",
            "Requirement already satisfied: scipy>=1.3.2 in /usr/local/lib/python3.10/dist-packages (from scikit-learn>=0.21.3->seqeval) (1.10.1)\n",
            "Requirement already satisfied: joblib>=1.1.1 in /usr/local/lib/python3.10/dist-packages (from scikit-learn>=0.21.3->seqeval) (1.3.2)\n",
            "Requirement already satisfied: threadpoolctl>=2.0.0 in /usr/local/lib/python3.10/dist-packages (from scikit-learn>=0.21.3->seqeval) (3.2.0)\n",
            "Building wheels for collected packages: seqeval\n",
            "  Building wheel for seqeval (setup.py) ... \u001b[?25l\u001b[?25hdone\n",
            "  Created wheel for seqeval: filename=seqeval-1.2.2-py3-none-any.whl size=16161 sha256=5484645d08d88f32fa4aaf200192263bb7fba010df9f36f2d471162b872a6167\n",
            "  Stored in directory: /root/.cache/pip/wheels/1a/67/4a/ad4082dd7dfc30f2abfe4d80a2ed5926a506eb8a972b4767fa\n",
            "Successfully built seqeval\n",
            "Installing collected packages: seqeval\n",
            "Successfully installed seqeval-1.2.2\n"
          ]
        }
      ]
    },
    {
      "cell_type": "code",
      "source": [
        "import random\n",
        "import pickle\n",
        "import json\n",
        "import pandas as pd\n",
        "import sys\n",
        "import numpy as np\n",
        "import tensorflow as tf\n",
        "from tensorflow import keras\n",
        "from sklearn.model_selection import train_test_split\n",
        "from tensorflow.keras.layers.experimental.preprocessing import TextVectorization\n",
        "from tensorflow.keras.layers import Embedding\n",
        "import os\n",
        "from seqeval.metrics import precision_score, recall_score, f1_score, classification_report\n",
        "from sklearn.model_selection import train_test_split"
      ],
      "metadata": {
        "id": "Xmsmz-Hck4d1"
      },
      "execution_count": null,
      "outputs": []
    },
    {
      "cell_type": "code",
      "source": [
        "import pandas as pd\n",
        "df=pd.read_csv('/content/drive/MyDrive/hate rate/task 1/pre_text/TRAIN_SINHALA_TASK_1.csv')\n",
        "test_df=pd.read_csv('/content/drive/MyDrive/hate rate/task 1/pre_text/TEST_SINHALA_TASK1.csv')"
      ],
      "metadata": {
        "id": "806l-OLgzk1j"
      },
      "execution_count": null,
      "outputs": []
    },
    {
      "cell_type": "code",
      "source": [
        "unique_word=set()\n",
        "for sent in df['pre_text']:\n",
        "  for word in sent.split():\n",
        "    unique_word.add(word)\n",
        "\n"
      ],
      "metadata": {
        "id": "Km8Io17mv_lQ"
      },
      "execution_count": null,
      "outputs": []
    },
    {
      "cell_type": "code",
      "source": [
        "def load_word_vectors(file_path):\n",
        "    word_vectors = {}\n",
        "    with open(file_path, 'r', encoding='utf-8') as f:\n",
        "        for line in f:\n",
        "            values = line.rstrip().split(' ')\n",
        "\n",
        "            word = values[0]\n",
        "            if(word in unique_word):\n",
        "              vector = [float(val) for val in values[1:]]\n",
        "              word_vectors[word] = vector\n",
        "    return word_vectors\n",
        "\n",
        "# Replace 'path_to_vectors.vec' with the actual path to your .vec file\n",
        "word_vectors = load_word_vectors('/content/drive/MyDrive/hate rate/task 1/embedding/Sinhala/cc.si.300.vec')\n"
      ],
      "metadata": {
        "id": "Qrb8AQz_ksG9"
      },
      "execution_count": null,
      "outputs": []
    },
    {
      "cell_type": "code",
      "source": [
        "df"
      ],
      "metadata": {
        "colab": {
          "base_uri": "https://localhost:8080/",
          "height": 419
        },
        "id": "ck4HA-kgnkw7",
        "outputId": "8874219d-3fd1-4434-d746-3433935a667a"
      },
      "execution_count": null,
      "outputs": [
        {
          "output_type": "execute_result",
          "data": {
            "text/plain": [
              "      Unnamed: 0              post_id  \\\n",
              "0              0   726758237668659201   \n",
              "1              1   915618589855617026   \n",
              "2              2   925001070430040065   \n",
              "3              3  1397219745707986955   \n",
              "4              4   950376113150222336   \n",
              "...          ...                  ...   \n",
              "7495        7495   930270216612872193   \n",
              "7496        7496  1159471424613969921   \n",
              "7497        7497  1073271775583100928   \n",
              "7498        7498  1131018244733657088   \n",
              "7499        7499  1386977011198046209   \n",
              "\n",
              "                                                   text label  \\\n",
              "0                            @USER @USER  පට්ට පට පට...   NOT   \n",
              "1     පරණ කෑල්ල අද වෙනකම් හිටියනම් අදට අවුරුදු 4යි. ...   HOF   \n",
              "2     යාළුවා කියලා හිතන් සර් ගේ ඔලුවට රෙද්ද දාලා නෙල...   NOT   \n",
              "3     හොඳ මිතුරියක් කතා කලා. විස්තර කතාකරමින් ඉදලා ම...   HOF   \n",
              "4                 ඔය බනින්නෙ.. හරකා, මී හරකා කිය කිය...   HOF   \n",
              "...                                                 ...   ...   \n",
              "7495                    අද උදේ දැක්කා පට්ට ලස්සන හීනයක්   NOT   \n",
              "7496  @USER කසල වෙන් කරලා දෙන්න පුරුදු වුනොත්  වැඩේ ...   NOT   \n",
              "7497  ඒත් පබාගේ පස්ස නම්... ඉස්සෝ කොටුවක් උනත් දාන්න...   HOF   \n",
              "7498  සුදුවෑන්වලට මාරම මාර බයක් තියෙන ඈයෝ  අන්තවාදයට...   HOF   \n",
              "7499  1 වෙනි පෝස්ටුවෙන් පසු... මොකක්ද යකෝ ඔය දාල තිය...   HOF   \n",
              "\n",
              "                                               pre_text  intlabel  \n",
              "0                                            පට්ට පට පට         0  \n",
              "1     පරණ කෑල්ල අද වෙනකම් හිටියනම් අදට අවුරුදු යි යා...         1  \n",
              "2     යාළුවා කියලා හිතන් සර් ගේ ඔලුවට රෙද්ද දාලා නෙල...         0  \n",
              "3     හොඳ මිතුරියක් කතා කලා විස්තර කතාකරමින් ඉදලා මේ...         1  \n",
              "4                       ඔය බනින්නෙ හරකා මී හරකා කිය කිය         1  \n",
              "...                                                 ...       ...  \n",
              "7495                    අද උදේ දැක්කා පට්ට ලස්සන හීනයක්         0  \n",
              "7496   කසල වෙන් කරලා දෙන්න පුරුදු වුනොත් වැඩේ ලේසි වෙයි         0  \n",
              "7497  ඒත් පබාගේ පස්ස නම් ඉස්සෝ කොටුවක් උනත් දාන්න පු...         1  \n",
              "7498  සුදුවෑන්වලට මාරම මාර බයක් තියෙන ඈයෝ අන්තවාදයට ...         1  \n",
              "7499   වෙනි පෝස්ටුවෙන් පසු මොකක්ද යකෝ ඔය දාල තියෙන්න...         1  \n",
              "\n",
              "[7500 rows x 6 columns]"
            ],
            "text/html": [
              "\n",
              "  <div id=\"df-6cb3b33e-612b-45c6-a52a-46615e3448ee\" class=\"colab-df-container\">\n",
              "    <div>\n",
              "<style scoped>\n",
              "    .dataframe tbody tr th:only-of-type {\n",
              "        vertical-align: middle;\n",
              "    }\n",
              "\n",
              "    .dataframe tbody tr th {\n",
              "        vertical-align: top;\n",
              "    }\n",
              "\n",
              "    .dataframe thead th {\n",
              "        text-align: right;\n",
              "    }\n",
              "</style>\n",
              "<table border=\"1\" class=\"dataframe\">\n",
              "  <thead>\n",
              "    <tr style=\"text-align: right;\">\n",
              "      <th></th>\n",
              "      <th>Unnamed: 0</th>\n",
              "      <th>post_id</th>\n",
              "      <th>text</th>\n",
              "      <th>label</th>\n",
              "      <th>pre_text</th>\n",
              "      <th>intlabel</th>\n",
              "    </tr>\n",
              "  </thead>\n",
              "  <tbody>\n",
              "    <tr>\n",
              "      <th>0</th>\n",
              "      <td>0</td>\n",
              "      <td>726758237668659201</td>\n",
              "      <td>@USER @USER  පට්ට පට පට...</td>\n",
              "      <td>NOT</td>\n",
              "      <td>පට්ට පට පට</td>\n",
              "      <td>0</td>\n",
              "    </tr>\n",
              "    <tr>\n",
              "      <th>1</th>\n",
              "      <td>1</td>\n",
              "      <td>915618589855617026</td>\n",
              "      <td>පරණ කෑල්ල අද වෙනකම් හිටියනම් අදට අවුරුදු 4යි. ...</td>\n",
              "      <td>HOF</td>\n",
              "      <td>පරණ කෑල්ල අද වෙනකම් හිටියනම් අදට අවුරුදු යි යා...</td>\n",
              "      <td>1</td>\n",
              "    </tr>\n",
              "    <tr>\n",
              "      <th>2</th>\n",
              "      <td>2</td>\n",
              "      <td>925001070430040065</td>\n",
              "      <td>යාළුවා කියලා හිතන් සර් ගේ ඔලුවට රෙද්ද දාලා නෙල...</td>\n",
              "      <td>NOT</td>\n",
              "      <td>යාළුවා කියලා හිතන් සර් ගේ ඔලුවට රෙද්ද දාලා නෙල...</td>\n",
              "      <td>0</td>\n",
              "    </tr>\n",
              "    <tr>\n",
              "      <th>3</th>\n",
              "      <td>3</td>\n",
              "      <td>1397219745707986955</td>\n",
              "      <td>හොඳ මිතුරියක් කතා කලා. විස්තර කතාකරමින් ඉදලා ම...</td>\n",
              "      <td>HOF</td>\n",
              "      <td>හොඳ මිතුරියක් කතා කලා විස්තර කතාකරමින් ඉදලා මේ...</td>\n",
              "      <td>1</td>\n",
              "    </tr>\n",
              "    <tr>\n",
              "      <th>4</th>\n",
              "      <td>4</td>\n",
              "      <td>950376113150222336</td>\n",
              "      <td>ඔය බනින්නෙ.. හරකා, මී හරකා කිය කිය...</td>\n",
              "      <td>HOF</td>\n",
              "      <td>ඔය බනින්නෙ හරකා මී හරකා කිය කිය</td>\n",
              "      <td>1</td>\n",
              "    </tr>\n",
              "    <tr>\n",
              "      <th>...</th>\n",
              "      <td>...</td>\n",
              "      <td>...</td>\n",
              "      <td>...</td>\n",
              "      <td>...</td>\n",
              "      <td>...</td>\n",
              "      <td>...</td>\n",
              "    </tr>\n",
              "    <tr>\n",
              "      <th>7495</th>\n",
              "      <td>7495</td>\n",
              "      <td>930270216612872193</td>\n",
              "      <td>අද උදේ දැක්කා පට්ට ලස්සන හීනයක්</td>\n",
              "      <td>NOT</td>\n",
              "      <td>අද උදේ දැක්කා පට්ට ලස්සන හීනයක්</td>\n",
              "      <td>0</td>\n",
              "    </tr>\n",
              "    <tr>\n",
              "      <th>7496</th>\n",
              "      <td>7496</td>\n",
              "      <td>1159471424613969921</td>\n",
              "      <td>@USER කසල වෙන් කරලා දෙන්න පුරුදු වුනොත්  වැඩේ ...</td>\n",
              "      <td>NOT</td>\n",
              "      <td>කසල වෙන් කරලා දෙන්න පුරුදු වුනොත් වැඩේ ලේසි වෙයි</td>\n",
              "      <td>0</td>\n",
              "    </tr>\n",
              "    <tr>\n",
              "      <th>7497</th>\n",
              "      <td>7497</td>\n",
              "      <td>1073271775583100928</td>\n",
              "      <td>ඒත් පබාගේ පස්ස නම්... ඉස්සෝ කොටුවක් උනත් දාන්න...</td>\n",
              "      <td>HOF</td>\n",
              "      <td>ඒත් පබාගේ පස්ස නම් ඉස්සෝ කොටුවක් උනත් දාන්න පු...</td>\n",
              "      <td>1</td>\n",
              "    </tr>\n",
              "    <tr>\n",
              "      <th>7498</th>\n",
              "      <td>7498</td>\n",
              "      <td>1131018244733657088</td>\n",
              "      <td>සුදුවෑන්වලට මාරම මාර බයක් තියෙන ඈයෝ  අන්තවාදයට...</td>\n",
              "      <td>HOF</td>\n",
              "      <td>සුදුවෑන්වලට මාරම මාර බයක් තියෙන ඈයෝ අන්තවාදයට ...</td>\n",
              "      <td>1</td>\n",
              "    </tr>\n",
              "    <tr>\n",
              "      <th>7499</th>\n",
              "      <td>7499</td>\n",
              "      <td>1386977011198046209</td>\n",
              "      <td>1 වෙනි පෝස්ටුවෙන් පසු... මොකක්ද යකෝ ඔය දාල තිය...</td>\n",
              "      <td>HOF</td>\n",
              "      <td>වෙනි පෝස්ටුවෙන් පසු මොකක්ද යකෝ ඔය දාල තියෙන්න...</td>\n",
              "      <td>1</td>\n",
              "    </tr>\n",
              "  </tbody>\n",
              "</table>\n",
              "<p>7500 rows × 6 columns</p>\n",
              "</div>\n",
              "    <div class=\"colab-df-buttons\">\n",
              "\n",
              "  <div class=\"colab-df-container\">\n",
              "    <button class=\"colab-df-convert\" onclick=\"convertToInteractive('df-6cb3b33e-612b-45c6-a52a-46615e3448ee')\"\n",
              "            title=\"Convert this dataframe to an interactive table.\"\n",
              "            style=\"display:none;\">\n",
              "\n",
              "  <svg xmlns=\"http://www.w3.org/2000/svg\" height=\"24px\" viewBox=\"0 -960 960 960\">\n",
              "    <path d=\"M120-120v-720h720v720H120Zm60-500h600v-160H180v160Zm220 220h160v-160H400v160Zm0 220h160v-160H400v160ZM180-400h160v-160H180v160Zm440 0h160v-160H620v160ZM180-180h160v-160H180v160Zm440 0h160v-160H620v160Z\"/>\n",
              "  </svg>\n",
              "    </button>\n",
              "\n",
              "  <style>\n",
              "    .colab-df-container {\n",
              "      display:flex;\n",
              "      gap: 12px;\n",
              "    }\n",
              "\n",
              "    .colab-df-convert {\n",
              "      background-color: #E8F0FE;\n",
              "      border: none;\n",
              "      border-radius: 50%;\n",
              "      cursor: pointer;\n",
              "      display: none;\n",
              "      fill: #1967D2;\n",
              "      height: 32px;\n",
              "      padding: 0 0 0 0;\n",
              "      width: 32px;\n",
              "    }\n",
              "\n",
              "    .colab-df-convert:hover {\n",
              "      background-color: #E2EBFA;\n",
              "      box-shadow: 0px 1px 2px rgba(60, 64, 67, 0.3), 0px 1px 3px 1px rgba(60, 64, 67, 0.15);\n",
              "      fill: #174EA6;\n",
              "    }\n",
              "\n",
              "    .colab-df-buttons div {\n",
              "      margin-bottom: 4px;\n",
              "    }\n",
              "\n",
              "    [theme=dark] .colab-df-convert {\n",
              "      background-color: #3B4455;\n",
              "      fill: #D2E3FC;\n",
              "    }\n",
              "\n",
              "    [theme=dark] .colab-df-convert:hover {\n",
              "      background-color: #434B5C;\n",
              "      box-shadow: 0px 1px 3px 1px rgba(0, 0, 0, 0.15);\n",
              "      filter: drop-shadow(0px 1px 2px rgba(0, 0, 0, 0.3));\n",
              "      fill: #FFFFFF;\n",
              "    }\n",
              "  </style>\n",
              "\n",
              "    <script>\n",
              "      const buttonEl =\n",
              "        document.querySelector('#df-6cb3b33e-612b-45c6-a52a-46615e3448ee button.colab-df-convert');\n",
              "      buttonEl.style.display =\n",
              "        google.colab.kernel.accessAllowed ? 'block' : 'none';\n",
              "\n",
              "      async function convertToInteractive(key) {\n",
              "        const element = document.querySelector('#df-6cb3b33e-612b-45c6-a52a-46615e3448ee');\n",
              "        const dataTable =\n",
              "          await google.colab.kernel.invokeFunction('convertToInteractive',\n",
              "                                                    [key], {});\n",
              "        if (!dataTable) return;\n",
              "\n",
              "        const docLinkHtml = 'Like what you see? Visit the ' +\n",
              "          '<a target=\"_blank\" href=https://colab.research.google.com/notebooks/data_table.ipynb>data table notebook</a>'\n",
              "          + ' to learn more about interactive tables.';\n",
              "        element.innerHTML = '';\n",
              "        dataTable['output_type'] = 'display_data';\n",
              "        await google.colab.output.renderOutput(dataTable, element);\n",
              "        const docLink = document.createElement('div');\n",
              "        docLink.innerHTML = docLinkHtml;\n",
              "        element.appendChild(docLink);\n",
              "      }\n",
              "    </script>\n",
              "  </div>\n",
              "\n",
              "\n",
              "<div id=\"df-d5c0e25c-d3b2-4c94-867d-5a88023cfb1b\">\n",
              "  <button class=\"colab-df-quickchart\" onclick=\"quickchart('df-d5c0e25c-d3b2-4c94-867d-5a88023cfb1b')\"\n",
              "            title=\"Suggest charts.\"\n",
              "            style=\"display:none;\">\n",
              "\n",
              "<svg xmlns=\"http://www.w3.org/2000/svg\" height=\"24px\"viewBox=\"0 0 24 24\"\n",
              "     width=\"24px\">\n",
              "    <g>\n",
              "        <path d=\"M19 3H5c-1.1 0-2 .9-2 2v14c0 1.1.9 2 2 2h14c1.1 0 2-.9 2-2V5c0-1.1-.9-2-2-2zM9 17H7v-7h2v7zm4 0h-2V7h2v10zm4 0h-2v-4h2v4z\"/>\n",
              "    </g>\n",
              "</svg>\n",
              "  </button>\n",
              "\n",
              "<style>\n",
              "  .colab-df-quickchart {\n",
              "    background-color: #E8F0FE;\n",
              "    border: none;\n",
              "    border-radius: 50%;\n",
              "    cursor: pointer;\n",
              "    display: none;\n",
              "    fill: #1967D2;\n",
              "    height: 32px;\n",
              "    padding: 0 0 0 0;\n",
              "    width: 32px;\n",
              "  }\n",
              "\n",
              "  .colab-df-quickchart:hover {\n",
              "    background-color: #E2EBFA;\n",
              "    box-shadow: 0px 1px 2px rgba(60, 64, 67, 0.3), 0px 1px 3px 1px rgba(60, 64, 67, 0.15);\n",
              "    fill: #174EA6;\n",
              "  }\n",
              "\n",
              "  [theme=dark] .colab-df-quickchart {\n",
              "    background-color: #3B4455;\n",
              "    fill: #D2E3FC;\n",
              "  }\n",
              "\n",
              "  [theme=dark] .colab-df-quickchart:hover {\n",
              "    background-color: #434B5C;\n",
              "    box-shadow: 0px 1px 3px 1px rgba(0, 0, 0, 0.15);\n",
              "    filter: drop-shadow(0px 1px 2px rgba(0, 0, 0, 0.3));\n",
              "    fill: #FFFFFF;\n",
              "  }\n",
              "</style>\n",
              "\n",
              "  <script>\n",
              "    async function quickchart(key) {\n",
              "      const charts = await google.colab.kernel.invokeFunction(\n",
              "          'suggestCharts', [key], {});\n",
              "    }\n",
              "    (() => {\n",
              "      let quickchartButtonEl =\n",
              "        document.querySelector('#df-d5c0e25c-d3b2-4c94-867d-5a88023cfb1b button');\n",
              "      quickchartButtonEl.style.display =\n",
              "        google.colab.kernel.accessAllowed ? 'block' : 'none';\n",
              "    })();\n",
              "  </script>\n",
              "</div>\n",
              "    </div>\n",
              "  </div>\n"
            ]
          },
          "metadata": {},
          "execution_count": 13
        }
      ]
    },
    {
      "cell_type": "code",
      "source": [
        "\n",
        "#finding longest sentence\n",
        "maxx=0\n",
        "\n",
        "for s in df['text']:\n",
        "  s_len=len(s.split())\n",
        "  if(s_len>maxx):\n",
        "    sent=s\n",
        "  maxx=max(s_len,maxx)\n",
        "\n",
        "print(maxx)\n"
      ],
      "metadata": {
        "colab": {
          "base_uri": "https://localhost:8080/"
        },
        "id": "impadkURkuUS",
        "outputId": "59472cfd-8be3-4ca7-a5c0-704115f19e8d"
      },
      "execution_count": null,
      "outputs": [
        {
          "output_type": "stream",
          "name": "stdout",
          "text": [
            "118\n"
          ]
        }
      ]
    },
    {
      "cell_type": "code",
      "source": [
        "train_df,val_df=train_test_split(df,test_size=0.1,random_state=50)"
      ],
      "metadata": {
        "id": "Da1IoxIEk0sy"
      },
      "execution_count": null,
      "outputs": []
    },
    {
      "cell_type": "code",
      "source": [
        "EMBEDDING_DIM=300"
      ],
      "metadata": {
        "id": "UFbC5DT6lJtW"
      },
      "execution_count": null,
      "outputs": []
    },
    {
      "cell_type": "code",
      "source": [
        "import nltk\n",
        "from tensorflow.keras.preprocessing.text import Tokenizer\n",
        "from tensorflow.keras.preprocessing.sequence import pad_sequences"
      ],
      "metadata": {
        "id": "IsXcg198lO0V"
      },
      "execution_count": null,
      "outputs": []
    },
    {
      "cell_type": "code",
      "source": [
        "# Step 1: Fit the tokenizer on the sentence corpus\n",
        "tokenizer = Tokenizer(filters='',oov_token='[OOV]')"
      ],
      "metadata": {
        "id": "W9-adt7-lQYA"
      },
      "execution_count": null,
      "outputs": []
    },
    {
      "cell_type": "code",
      "source": [],
      "metadata": {
        "id": "_DdaDZuk1uXQ"
      },
      "execution_count": null,
      "outputs": []
    },
    {
      "cell_type": "code",
      "source": [
        "\n",
        "\n",
        "tokenizer.fit_on_texts(df['pre_text'].tolist())\n",
        "train_sequence=tokenizer.texts_to_sequences(train_df['pre_text'].values)\n",
        "val_sequence=tokenizer.texts_to_sequences(val_df['pre_text'].values)\n",
        "\n",
        "\n",
        "num_tokens=len(tokenizer.word_index)\n",
        "\n",
        "num_tokens=len(tokenizer.word_index)+1\n",
        "\n",
        "GLOVE_EMBEDDING_DIM=100\n",
        "\n",
        "\n",
        "\n"
      ],
      "metadata": {
        "id": "Yx6KDMjXlaft"
      },
      "execution_count": null,
      "outputs": []
    },
    {
      "cell_type": "code",
      "source": [
        "print(num_tokens)"
      ],
      "metadata": {
        "colab": {
          "base_uri": "https://localhost:8080/"
        },
        "id": "tvBsTdCt3Uzd",
        "outputId": "1a818f90-738b-427b-873e-0b7fbad2d64c"
      },
      "execution_count": null,
      "outputs": [
        {
          "output_type": "stream",
          "name": "stdout",
          "text": [
            "32535\n"
          ]
        }
      ]
    },
    {
      "cell_type": "code",
      "source": [
        "max_sequence_length = 128"
      ],
      "metadata": {
        "id": "TXPtCMekmIRn"
      },
      "execution_count": null,
      "outputs": []
    },
    {
      "cell_type": "code",
      "source": [
        "import fasttext\n",
        "import numpy as np\n",
        "from tensorflow.keras.preprocessing.text import Tokenizer\n",
        "from tensorflow.keras.preprocessing.sequence import pad_sequences\n",
        "\n",
        "\n",
        "\n",
        "\n",
        "# Pad sequences to a uniform length\n",
        "train_padded_sequences = pad_sequences(train_sequence, maxlen=max_sequence_length, padding='post', truncating='post')\n",
        "val_padded_sequences = pad_sequences(val_sequence, maxlen=max_sequence_length, padding='post', truncating='post')\n",
        "\n",
        "# Create the embedding matrix\n",
        "embedding_dim = 300  # Adjust based on your FastText embeddings\n",
        "num_words = len(tokenizer.word_index) + 1  # Add 1 for the padding token\n",
        "count_yes=0\n",
        "embedding_matrix = np.zeros((num_words, embedding_dim))\n",
        "word_embedding_not_found=[]\n",
        "for word, i in tokenizer.word_index.items():\n",
        "    if word in fasttext_model:\n",
        "        count_yes+=1\n",
        "        embedding_matrix[i] = fasttext_model[word]\n",
        "    else:\n",
        "      word_embedding_not_found.append(word)\n",
        "\n",
        "# Now you can use 'embedding_matrix' as the 'weights' parameter when creating the Embedding layer in your model\n",
        "print('number of words in fasttext of our tokenizer are : ',count_yes,' and total is ',num_words)"
      ],
      "metadata": {
        "colab": {
          "base_uri": "https://localhost:8080/"
        },
        "id": "UJzKaVQklipS",
        "outputId": "e359b499-322d-4c74-8fdc-a06d075788ac"
      },
      "execution_count": null,
      "outputs": [
        {
          "output_type": "stream",
          "name": "stdout",
          "text": [
            "number of words in fasttext of our tokenizer are :  25390  and total is  32535\n"
          ]
        }
      ]
    },
    {
      "cell_type": "code",
      "source": [
        "train_input=train_padded_sequences\n",
        "train_output=np.array(train_df['intlabel'])\n",
        "\n",
        "val_input=val_padded_sequences\n",
        "val_output=np.array(val_df['intlabel'])\n"
      ],
      "metadata": {
        "id": "Y09enWohnABK"
      },
      "execution_count": null,
      "outputs": []
    },
    {
      "cell_type": "code",
      "source": [
        "import tensorflow as tf\n",
        "from tensorflow.keras.layers import Embedding, Conv1D, MaxPooling1D, LSTM, Dense, Add, Input,Concatenate,Dropout\n",
        "from keras.layers import Input, Embedding, Conv1D, GlobalMaxPooling1D, Dense\n",
        "from keras.models import Model\n",
        "# Assuming you have loaded FastText embeddings into 'embedding_matrix'\n",
        "\n",
        "# Input layer\n",
        "input_layer = Input(shape=(max_sequence_length,))\n",
        "\n",
        "# Embedding layer\n",
        "embedding_layer = Embedding(input_dim=num_words,\n",
        "                            output_dim=embedding_dim,\n",
        "                            weights=[embedding_matrix],\n",
        "                            input_length=max_sequence_length,\n",
        "                            trainable=False)(input_layer)\n",
        "\n",
        "# Add a 1D convolutional layer\n",
        "conv_layer = Conv1D(filters=300, kernel_size=3, activation='relu', padding='same' )(embedding_layer)\n",
        "\n",
        "\n",
        "#max_pooling_layer = MaxPooling1D(pool_size=2)(conv_layer)\n",
        "# Second 1D convolutional layer\n",
        "conv_layer_2 = Conv1D(filters=300, kernel_size=2, activation='relu', padding='same')(conv_layer)\n",
        "# Apply global max pooling\n",
        "residual_connection = Add()([conv_layer_2, conv_layer])\n",
        "conv_layer_3 = Conv1D(filters=500, kernel_size=2, activation='relu')(residual_connection)\n",
        "conv_layer_3=Dropout(0.3)(conv_layer_3)\n",
        "conv_layer_4 = Conv1D(filters=300, kernel_size=1, activation='relu')(conv_layer_3)\n",
        "\n",
        "pooling_layer = GlobalMaxPooling1D()(conv_layer_4)\n",
        "\n",
        "# Add a dense layer\n",
        "dense_layer = Dense(50, activation='relu')(pooling_layer)\n",
        "\n",
        "# Output layer\n",
        "output_layer = Dense(1, activation='sigmoid')(dense_layer)\n",
        "\n",
        "\n",
        "# Create the model\n",
        "\n"
      ],
      "metadata": {
        "id": "5SfBt7y1pUXg"
      },
      "execution_count": null,
      "outputs": []
    },
    {
      "cell_type": "code",
      "source": [
        "model = tf.keras.Model(inputs=input_layer, outputs=output_layer)\n",
        "\n",
        "\n",
        "\n",
        "# Print the model summary\n",
        "\n",
        "model.summary()"
      ],
      "metadata": {
        "colab": {
          "base_uri": "https://localhost:8080/"
        },
        "id": "E05XFNSmq6mx",
        "outputId": "2d0b1bff-5c5b-42df-e717-57540a74a538"
      },
      "execution_count": null,
      "outputs": [
        {
          "output_type": "stream",
          "name": "stdout",
          "text": [
            "Model: \"model_14\"\n",
            "__________________________________________________________________________________________________\n",
            " Layer (type)                   Output Shape         Param #     Connected to                     \n",
            "==================================================================================================\n",
            " input_19 (InputLayer)          [(None, 128)]        0           []                               \n",
            "                                                                                                  \n",
            " embedding_15 (Embedding)       (None, 128, 300)     529800      ['input_19[0][0]']               \n",
            "                                                                                                  \n",
            " conv1d_36 (Conv1D)             (None, 128, 300)     270300      ['embedding_15[0][0]']           \n",
            "                                                                                                  \n",
            " conv1d_37 (Conv1D)             (None, 128, 300)     180300      ['conv1d_36[0][0]']              \n",
            "                                                                                                  \n",
            " add_13 (Add)                   (None, 128, 300)     0           ['conv1d_37[0][0]',              \n",
            "                                                                  'conv1d_36[0][0]']              \n",
            "                                                                                                  \n",
            " conv1d_38 (Conv1D)             (None, 127, 500)     300500      ['add_13[0][0]']                 \n",
            "                                                                                                  \n",
            " dropout (Dropout)              (None, 127, 500)     0           ['conv1d_38[0][0]']              \n",
            "                                                                                                  \n",
            " conv1d_39 (Conv1D)             (None, 127, 300)     150300      ['dropout[0][0]']                \n",
            "                                                                                                  \n",
            " global_max_pooling1d_11 (Globa  (None, 300)         0           ['conv1d_39[0][0]']              \n",
            " lMaxPooling1D)                                                                                   \n",
            "                                                                                                  \n",
            " dense_22 (Dense)               (None, 50)           15050       ['global_max_pooling1d_11[0][0]']\n",
            "                                                                                                  \n",
            " dense_23 (Dense)               (None, 1)            51          ['dense_22[0][0]']               \n",
            "                                                                                                  \n",
            "==================================================================================================\n",
            "Total params: 1,446,301\n",
            "Trainable params: 916,501\n",
            "Non-trainable params: 529,800\n",
            "__________________________________________________________________________________________________\n"
          ]
        }
      ]
    },
    {
      "cell_type": "code",
      "source": [
        "model.reset_states()\n"
      ],
      "metadata": {
        "id": "oQ_nV7krrwOl"
      },
      "execution_count": null,
      "outputs": []
    },
    {
      "cell_type": "code",
      "source": [
        "from tensorflow.keras.optimizers import AdamW\n",
        "BATCH_SIZE=32\n",
        "EPOCHS=1000\n",
        "\n",
        "\n",
        "learning_rate = 0.00005  # You can adjust this value\n",
        "optimizer = tf.keras.optimizers.AdamW(learning_rate=learning_rate)\n",
        "# Compile the model\n",
        "model.compile(loss='binary_crossentropy', optimizer=optimizer, metrics=['accuracy'])\n",
        "\n",
        "\n",
        "model.fit(train_input,\n",
        "          train_output,\n",
        "          batch_size=BATCH_SIZE,\n",
        "          validation_data=(val_input,val_output),\n",
        "          epochs=EPOCHS)"
      ],
      "metadata": {
        "colab": {
          "base_uri": "https://localhost:8080/",
          "height": 1000
        },
        "id": "UzV0BxOVp6EY",
        "outputId": "17b9d34a-227e-46dd-c85a-18ffab039cd3"
      },
      "execution_count": null,
      "outputs": [
        {
          "output_type": "stream",
          "name": "stdout",
          "text": [
            "Epoch 1/1000\n",
            "6/6 [==============================] - 5s 522ms/step - loss: 0.6949 - accuracy: 0.5056 - val_loss: 0.6904 - val_accuracy: 0.6000\n",
            "Epoch 2/1000\n",
            "6/6 [==============================] - 5s 833ms/step - loss: 0.6916 - accuracy: 0.5611 - val_loss: 0.6900 - val_accuracy: 0.5500\n",
            "Epoch 3/1000\n",
            "6/6 [==============================] - 3s 458ms/step - loss: 0.6888 - accuracy: 0.6167 - val_loss: 0.6898 - val_accuracy: 0.4500\n",
            "Epoch 4/1000\n",
            "6/6 [==============================] - 3s 468ms/step - loss: 0.6878 - accuracy: 0.6167 - val_loss: 0.6895 - val_accuracy: 0.5000\n",
            "Epoch 5/1000\n",
            "6/6 [==============================] - 3s 472ms/step - loss: 0.6856 - accuracy: 0.6111 - val_loss: 0.6894 - val_accuracy: 0.5500\n",
            "Epoch 6/1000\n",
            "6/6 [==============================] - 4s 660ms/step - loss: 0.6834 - accuracy: 0.6111 - val_loss: 0.6885 - val_accuracy: 0.5000\n",
            "Epoch 7/1000\n",
            "6/6 [==============================] - 4s 534ms/step - loss: 0.6829 - accuracy: 0.6222 - val_loss: 0.6878 - val_accuracy: 0.5000\n",
            "Epoch 8/1000\n",
            "6/6 [==============================] - 3s 472ms/step - loss: 0.6802 - accuracy: 0.5944 - val_loss: 0.6873 - val_accuracy: 0.5500\n",
            "Epoch 9/1000\n",
            "6/6 [==============================] - 3s 459ms/step - loss: 0.6772 - accuracy: 0.6000 - val_loss: 0.6865 - val_accuracy: 0.5500\n",
            "Epoch 10/1000\n",
            "6/6 [==============================] - 3s 511ms/step - loss: 0.6754 - accuracy: 0.6556 - val_loss: 0.6854 - val_accuracy: 0.5000\n",
            "Epoch 11/1000\n",
            "6/6 [==============================] - 4s 700ms/step - loss: 0.6724 - accuracy: 0.6889 - val_loss: 0.6845 - val_accuracy: 0.5000\n",
            "Epoch 12/1000\n",
            "6/6 [==============================] - 3s 456ms/step - loss: 0.6698 - accuracy: 0.6889 - val_loss: 0.6831 - val_accuracy: 0.5000\n",
            "Epoch 13/1000\n",
            "6/6 [==============================] - 3s 458ms/step - loss: 0.6684 - accuracy: 0.7056 - val_loss: 0.6822 - val_accuracy: 0.5000\n",
            "Epoch 14/1000\n",
            "6/6 [==============================] - 3s 470ms/step - loss: 0.6658 - accuracy: 0.7444 - val_loss: 0.6807 - val_accuracy: 0.5000\n",
            "Epoch 15/1000\n",
            "6/6 [==============================] - 5s 808ms/step - loss: 0.6630 - accuracy: 0.8222 - val_loss: 0.6795 - val_accuracy: 0.5000\n",
            "Epoch 16/1000\n",
            "6/6 [==============================] - 3s 470ms/step - loss: 0.6595 - accuracy: 0.7944 - val_loss: 0.6788 - val_accuracy: 0.5500\n",
            "Epoch 17/1000\n",
            "6/6 [==============================] - 3s 464ms/step - loss: 0.6572 - accuracy: 0.7722 - val_loss: 0.6776 - val_accuracy: 0.5000\n",
            "Epoch 18/1000\n",
            "6/6 [==============================] - 3s 467ms/step - loss: 0.6525 - accuracy: 0.8111 - val_loss: 0.6764 - val_accuracy: 0.4000\n",
            "Epoch 19/1000\n",
            "6/6 [==============================] - 4s 653ms/step - loss: 0.6467 - accuracy: 0.8833 - val_loss: 0.6748 - val_accuracy: 0.5500\n",
            "Epoch 20/1000\n",
            "6/6 [==============================] - 4s 538ms/step - loss: 0.6412 - accuracy: 0.8778 - val_loss: 0.6733 - val_accuracy: 0.5500\n",
            "Epoch 21/1000\n",
            "6/6 [==============================] - 3s 466ms/step - loss: 0.6384 - accuracy: 0.8778 - val_loss: 0.6714 - val_accuracy: 0.5000\n",
            "Epoch 22/1000\n",
            "6/6 [==============================] - 3s 458ms/step - loss: 0.6354 - accuracy: 0.8944 - val_loss: 0.6699 - val_accuracy: 0.5000\n",
            "Epoch 23/1000\n",
            "6/6 [==============================] - 3s 477ms/step - loss: 0.6264 - accuracy: 0.8833 - val_loss: 0.6676 - val_accuracy: 0.5000\n",
            "Epoch 24/1000\n",
            "6/6 [==============================] - 4s 719ms/step - loss: 0.6218 - accuracy: 0.9056 - val_loss: 0.6652 - val_accuracy: 0.4500\n",
            "Epoch 25/1000\n",
            "6/6 [==============================] - 3s 458ms/step - loss: 0.6140 - accuracy: 0.9111 - val_loss: 0.6637 - val_accuracy: 0.5000\n",
            "Epoch 26/1000\n",
            "6/6 [==============================] - 3s 456ms/step - loss: 0.6073 - accuracy: 0.9111 - val_loss: 0.6623 - val_accuracy: 0.4500\n",
            "Epoch 27/1000\n",
            "6/6 [==============================] - 3s 452ms/step - loss: 0.5977 - accuracy: 0.9167 - val_loss: 0.6593 - val_accuracy: 0.4500\n",
            "Epoch 28/1000\n",
            "6/6 [==============================] - 4s 734ms/step - loss: 0.5892 - accuracy: 0.8944 - val_loss: 0.6557 - val_accuracy: 0.5500\n",
            "Epoch 29/1000\n",
            "6/6 [==============================] - 3s 472ms/step - loss: 0.5821 - accuracy: 0.9167 - val_loss: 0.6567 - val_accuracy: 0.4000\n",
            "Epoch 30/1000\n",
            "6/6 [==============================] - 3s 469ms/step - loss: 0.5689 - accuracy: 0.9056 - val_loss: 0.6529 - val_accuracy: 0.4500\n",
            "Epoch 31/1000\n",
            "6/6 [==============================] - 3s 455ms/step - loss: 0.5553 - accuracy: 0.9111 - val_loss: 0.6486 - val_accuracy: 0.5500\n",
            "Epoch 32/1000\n",
            "6/6 [==============================] - 3s 534ms/step - loss: 0.5419 - accuracy: 0.9333 - val_loss: 0.6459 - val_accuracy: 0.5500\n",
            "Epoch 33/1000\n",
            "6/6 [==============================] - 4s 656ms/step - loss: 0.5281 - accuracy: 0.9167 - val_loss: 0.6432 - val_accuracy: 0.5000\n",
            "Epoch 34/1000\n",
            "6/6 [==============================] - 3s 466ms/step - loss: 0.5085 - accuracy: 0.9389 - val_loss: 0.6404 - val_accuracy: 0.5000\n",
            "Epoch 35/1000\n",
            "6/6 [==============================] - 3s 457ms/step - loss: 0.4954 - accuracy: 0.9167 - val_loss: 0.6400 - val_accuracy: 0.5000\n",
            "Epoch 36/1000\n",
            "6/6 [==============================] - 3s 472ms/step - loss: 0.4733 - accuracy: 0.9167 - val_loss: 0.6396 - val_accuracy: 0.5000\n",
            "Epoch 37/1000\n",
            "6/6 [==============================] - 5s 832ms/step - loss: 0.4487 - accuracy: 0.9667 - val_loss: 0.6400 - val_accuracy: 0.5000\n",
            "Epoch 38/1000\n",
            "6/6 [==============================] - 3s 469ms/step - loss: 0.4299 - accuracy: 0.9278 - val_loss: 0.6388 - val_accuracy: 0.5500\n",
            "Epoch 39/1000\n",
            "6/6 [==============================] - 3s 483ms/step - loss: 0.4103 - accuracy: 0.9444 - val_loss: 0.6460 - val_accuracy: 0.5000\n",
            "Epoch 40/1000\n",
            "6/6 [==============================] - 3s 472ms/step - loss: 0.3782 - accuracy: 0.9611 - val_loss: 0.6396 - val_accuracy: 0.5000\n",
            "Epoch 41/1000\n",
            "6/6 [==============================] - 4s 705ms/step - loss: 0.3564 - accuracy: 0.9611 - val_loss: 0.6452 - val_accuracy: 0.5000\n",
            "Epoch 42/1000\n",
            "6/6 [==============================] - 3s 511ms/step - loss: 0.3310 - accuracy: 0.9778 - val_loss: 0.6717 - val_accuracy: 0.4500\n",
            "Epoch 43/1000\n",
            "6/6 [==============================] - 3s 455ms/step - loss: 0.3074 - accuracy: 0.9833 - val_loss: 0.6606 - val_accuracy: 0.4500\n",
            "Epoch 44/1000\n",
            "6/6 [==============================] - 3s 457ms/step - loss: 0.2784 - accuracy: 0.9778 - val_loss: 0.6598 - val_accuracy: 0.5000\n",
            "Epoch 45/1000\n",
            "6/6 [==============================] - 3s 502ms/step - loss: 0.2535 - accuracy: 0.9722 - val_loss: 0.6797 - val_accuracy: 0.4500\n",
            "Epoch 46/1000\n",
            "6/6 [==============================] - 4s 696ms/step - loss: 0.2271 - accuracy: 0.9833 - val_loss: 0.6910 - val_accuracy: 0.4500\n",
            "Epoch 47/1000\n",
            "6/6 [==============================] - 3s 464ms/step - loss: 0.1990 - accuracy: 0.9944 - val_loss: 0.6902 - val_accuracy: 0.5000\n",
            "Epoch 48/1000\n",
            "6/6 [==============================] - 3s 472ms/step - loss: 0.1764 - accuracy: 1.0000 - val_loss: 0.7112 - val_accuracy: 0.4500\n",
            "Epoch 49/1000\n",
            "6/6 [==============================] - 3s 457ms/step - loss: 0.1552 - accuracy: 1.0000 - val_loss: 0.7134 - val_accuracy: 0.5000\n",
            "Epoch 50/1000\n",
            "6/6 [==============================] - 5s 818ms/step - loss: 0.1370 - accuracy: 1.0000 - val_loss: 0.7445 - val_accuracy: 0.5000\n",
            "Epoch 51/1000\n",
            "6/6 [==============================] - 3s 464ms/step - loss: 0.1175 - accuracy: 0.9944 - val_loss: 0.7371 - val_accuracy: 0.5000\n",
            "Epoch 52/1000\n",
            "6/6 [==============================] - 3s 457ms/step - loss: 0.1016 - accuracy: 1.0000 - val_loss: 0.7655 - val_accuracy: 0.4500\n",
            "Epoch 53/1000\n",
            "6/6 [==============================] - 3s 468ms/step - loss: 0.0894 - accuracy: 1.0000 - val_loss: 0.7739 - val_accuracy: 0.5000\n",
            "Epoch 54/1000\n",
            "6/6 [==============================] - 4s 660ms/step - loss: 0.0735 - accuracy: 1.0000 - val_loss: 0.7925 - val_accuracy: 0.5000\n",
            "Epoch 55/1000\n",
            "6/6 [==============================] - 4s 551ms/step - loss: 0.0662 - accuracy: 1.0000 - val_loss: 0.8031 - val_accuracy: 0.4500\n",
            "Epoch 56/1000\n",
            "6/6 [==============================] - 3s 462ms/step - loss: 0.0551 - accuracy: 1.0000 - val_loss: 0.8231 - val_accuracy: 0.4000\n",
            "Epoch 57/1000\n",
            "6/6 [==============================] - 3s 476ms/step - loss: 0.0469 - accuracy: 1.0000 - val_loss: 0.8348 - val_accuracy: 0.4500\n",
            "Epoch 58/1000\n",
            "6/6 [==============================] - 3s 527ms/step - loss: 0.0464 - accuracy: 1.0000 - val_loss: 0.8516 - val_accuracy: 0.4500\n",
            "Epoch 59/1000\n",
            "6/6 [==============================] - 4s 676ms/step - loss: 0.0382 - accuracy: 1.0000 - val_loss: 0.8801 - val_accuracy: 0.4000\n",
            "Epoch 60/1000\n",
            "6/6 [==============================] - 3s 504ms/step - loss: 0.0340 - accuracy: 1.0000 - val_loss: 0.8872 - val_accuracy: 0.4500\n",
            "Epoch 61/1000\n",
            "6/6 [==============================] - 3s 469ms/step - loss: 0.0273 - accuracy: 1.0000 - val_loss: 0.8929 - val_accuracy: 0.4500\n",
            "Epoch 62/1000\n",
            "6/6 [==============================] - 3s 462ms/step - loss: 0.0267 - accuracy: 1.0000 - val_loss: 0.9071 - val_accuracy: 0.4500\n",
            "Epoch 63/1000\n",
            "4/6 [===================>..........] - ETA: 1s - loss: 0.0269 - accuracy: 1.0000"
          ]
        },
        {
          "output_type": "error",
          "ename": "KeyboardInterrupt",
          "evalue": "ignored",
          "traceback": [
            "\u001b[0;31m---------------------------------------------------------------------------\u001b[0m",
            "\u001b[0;31mKeyboardInterrupt\u001b[0m                         Traceback (most recent call last)",
            "\u001b[0;32m<ipython-input-81-7283c8bc2050>\u001b[0m in \u001b[0;36m<cell line: 12>\u001b[0;34m()\u001b[0m\n\u001b[1;32m     10\u001b[0m \u001b[0;34m\u001b[0m\u001b[0m\n\u001b[1;32m     11\u001b[0m \u001b[0;34m\u001b[0m\u001b[0m\n\u001b[0;32m---> 12\u001b[0;31m model.fit(train_input,\n\u001b[0m\u001b[1;32m     13\u001b[0m           \u001b[0mtrain_output\u001b[0m\u001b[0;34m,\u001b[0m\u001b[0;34m\u001b[0m\u001b[0;34m\u001b[0m\u001b[0m\n\u001b[1;32m     14\u001b[0m           \u001b[0mbatch_size\u001b[0m\u001b[0;34m=\u001b[0m\u001b[0mBATCH_SIZE\u001b[0m\u001b[0;34m,\u001b[0m\u001b[0;34m\u001b[0m\u001b[0;34m\u001b[0m\u001b[0m\n",
            "\u001b[0;32m/usr/local/lib/python3.10/dist-packages/keras/utils/traceback_utils.py\u001b[0m in \u001b[0;36merror_handler\u001b[0;34m(*args, **kwargs)\u001b[0m\n\u001b[1;32m     63\u001b[0m         \u001b[0mfiltered_tb\u001b[0m \u001b[0;34m=\u001b[0m \u001b[0;32mNone\u001b[0m\u001b[0;34m\u001b[0m\u001b[0;34m\u001b[0m\u001b[0m\n\u001b[1;32m     64\u001b[0m         \u001b[0;32mtry\u001b[0m\u001b[0;34m:\u001b[0m\u001b[0;34m\u001b[0m\u001b[0;34m\u001b[0m\u001b[0m\n\u001b[0;32m---> 65\u001b[0;31m             \u001b[0;32mreturn\u001b[0m \u001b[0mfn\u001b[0m\u001b[0;34m(\u001b[0m\u001b[0;34m*\u001b[0m\u001b[0margs\u001b[0m\u001b[0;34m,\u001b[0m \u001b[0;34m**\u001b[0m\u001b[0mkwargs\u001b[0m\u001b[0;34m)\u001b[0m\u001b[0;34m\u001b[0m\u001b[0;34m\u001b[0m\u001b[0m\n\u001b[0m\u001b[1;32m     66\u001b[0m         \u001b[0;32mexcept\u001b[0m \u001b[0mException\u001b[0m \u001b[0;32mas\u001b[0m \u001b[0me\u001b[0m\u001b[0;34m:\u001b[0m\u001b[0;34m\u001b[0m\u001b[0;34m\u001b[0m\u001b[0m\n\u001b[1;32m     67\u001b[0m             \u001b[0mfiltered_tb\u001b[0m \u001b[0;34m=\u001b[0m \u001b[0m_process_traceback_frames\u001b[0m\u001b[0;34m(\u001b[0m\u001b[0me\u001b[0m\u001b[0;34m.\u001b[0m\u001b[0m__traceback__\u001b[0m\u001b[0;34m)\u001b[0m\u001b[0;34m\u001b[0m\u001b[0;34m\u001b[0m\u001b[0m\n",
            "\u001b[0;32m/usr/local/lib/python3.10/dist-packages/keras/engine/training.py\u001b[0m in \u001b[0;36mfit\u001b[0;34m(self, x, y, batch_size, epochs, verbose, callbacks, validation_split, validation_data, shuffle, class_weight, sample_weight, initial_epoch, steps_per_epoch, validation_steps, validation_batch_size, validation_freq, max_queue_size, workers, use_multiprocessing)\u001b[0m\n\u001b[1;32m   1683\u001b[0m                         ):\n\u001b[1;32m   1684\u001b[0m                             \u001b[0mcallbacks\u001b[0m\u001b[0;34m.\u001b[0m\u001b[0mon_train_batch_begin\u001b[0m\u001b[0;34m(\u001b[0m\u001b[0mstep\u001b[0m\u001b[0;34m)\u001b[0m\u001b[0;34m\u001b[0m\u001b[0;34m\u001b[0m\u001b[0m\n\u001b[0;32m-> 1685\u001b[0;31m                             \u001b[0mtmp_logs\u001b[0m \u001b[0;34m=\u001b[0m \u001b[0mself\u001b[0m\u001b[0;34m.\u001b[0m\u001b[0mtrain_function\u001b[0m\u001b[0;34m(\u001b[0m\u001b[0miterator\u001b[0m\u001b[0;34m)\u001b[0m\u001b[0;34m\u001b[0m\u001b[0;34m\u001b[0m\u001b[0m\n\u001b[0m\u001b[1;32m   1686\u001b[0m                             \u001b[0;32mif\u001b[0m \u001b[0mdata_handler\u001b[0m\u001b[0;34m.\u001b[0m\u001b[0mshould_sync\u001b[0m\u001b[0;34m:\u001b[0m\u001b[0;34m\u001b[0m\u001b[0;34m\u001b[0m\u001b[0m\n\u001b[1;32m   1687\u001b[0m                                 \u001b[0mcontext\u001b[0m\u001b[0;34m.\u001b[0m\u001b[0masync_wait\u001b[0m\u001b[0;34m(\u001b[0m\u001b[0;34m)\u001b[0m\u001b[0;34m\u001b[0m\u001b[0;34m\u001b[0m\u001b[0m\n",
            "\u001b[0;32m/usr/local/lib/python3.10/dist-packages/tensorflow/python/util/traceback_utils.py\u001b[0m in \u001b[0;36merror_handler\u001b[0;34m(*args, **kwargs)\u001b[0m\n\u001b[1;32m    148\u001b[0m     \u001b[0mfiltered_tb\u001b[0m \u001b[0;34m=\u001b[0m \u001b[0;32mNone\u001b[0m\u001b[0;34m\u001b[0m\u001b[0;34m\u001b[0m\u001b[0m\n\u001b[1;32m    149\u001b[0m     \u001b[0;32mtry\u001b[0m\u001b[0;34m:\u001b[0m\u001b[0;34m\u001b[0m\u001b[0;34m\u001b[0m\u001b[0m\n\u001b[0;32m--> 150\u001b[0;31m       \u001b[0;32mreturn\u001b[0m \u001b[0mfn\u001b[0m\u001b[0;34m(\u001b[0m\u001b[0;34m*\u001b[0m\u001b[0margs\u001b[0m\u001b[0;34m,\u001b[0m \u001b[0;34m**\u001b[0m\u001b[0mkwargs\u001b[0m\u001b[0;34m)\u001b[0m\u001b[0;34m\u001b[0m\u001b[0;34m\u001b[0m\u001b[0m\n\u001b[0m\u001b[1;32m    151\u001b[0m     \u001b[0;32mexcept\u001b[0m \u001b[0mException\u001b[0m \u001b[0;32mas\u001b[0m \u001b[0me\u001b[0m\u001b[0;34m:\u001b[0m\u001b[0;34m\u001b[0m\u001b[0;34m\u001b[0m\u001b[0m\n\u001b[1;32m    152\u001b[0m       \u001b[0mfiltered_tb\u001b[0m \u001b[0;34m=\u001b[0m \u001b[0m_process_traceback_frames\u001b[0m\u001b[0;34m(\u001b[0m\u001b[0me\u001b[0m\u001b[0;34m.\u001b[0m\u001b[0m__traceback__\u001b[0m\u001b[0;34m)\u001b[0m\u001b[0;34m\u001b[0m\u001b[0;34m\u001b[0m\u001b[0m\n",
            "\u001b[0;32m/usr/local/lib/python3.10/dist-packages/tensorflow/python/eager/polymorphic_function/polymorphic_function.py\u001b[0m in \u001b[0;36m__call__\u001b[0;34m(self, *args, **kwds)\u001b[0m\n\u001b[1;32m    892\u001b[0m \u001b[0;34m\u001b[0m\u001b[0m\n\u001b[1;32m    893\u001b[0m       \u001b[0;32mwith\u001b[0m \u001b[0mOptionalXlaContext\u001b[0m\u001b[0;34m(\u001b[0m\u001b[0mself\u001b[0m\u001b[0;34m.\u001b[0m\u001b[0m_jit_compile\u001b[0m\u001b[0;34m)\u001b[0m\u001b[0;34m:\u001b[0m\u001b[0;34m\u001b[0m\u001b[0;34m\u001b[0m\u001b[0m\n\u001b[0;32m--> 894\u001b[0;31m         \u001b[0mresult\u001b[0m \u001b[0;34m=\u001b[0m \u001b[0mself\u001b[0m\u001b[0;34m.\u001b[0m\u001b[0m_call\u001b[0m\u001b[0;34m(\u001b[0m\u001b[0;34m*\u001b[0m\u001b[0margs\u001b[0m\u001b[0;34m,\u001b[0m \u001b[0;34m**\u001b[0m\u001b[0mkwds\u001b[0m\u001b[0;34m)\u001b[0m\u001b[0;34m\u001b[0m\u001b[0;34m\u001b[0m\u001b[0m\n\u001b[0m\u001b[1;32m    895\u001b[0m \u001b[0;34m\u001b[0m\u001b[0m\n\u001b[1;32m    896\u001b[0m       \u001b[0mnew_tracing_count\u001b[0m \u001b[0;34m=\u001b[0m \u001b[0mself\u001b[0m\u001b[0;34m.\u001b[0m\u001b[0mexperimental_get_tracing_count\u001b[0m\u001b[0;34m(\u001b[0m\u001b[0;34m)\u001b[0m\u001b[0;34m\u001b[0m\u001b[0;34m\u001b[0m\u001b[0m\n",
            "\u001b[0;32m/usr/local/lib/python3.10/dist-packages/tensorflow/python/eager/polymorphic_function/polymorphic_function.py\u001b[0m in \u001b[0;36m_call\u001b[0;34m(self, *args, **kwds)\u001b[0m\n\u001b[1;32m    924\u001b[0m       \u001b[0;31m# In this case we have created variables on the first call, so we run the\u001b[0m\u001b[0;34m\u001b[0m\u001b[0;34m\u001b[0m\u001b[0m\n\u001b[1;32m    925\u001b[0m       \u001b[0;31m# defunned version which is guaranteed to never create variables.\u001b[0m\u001b[0;34m\u001b[0m\u001b[0;34m\u001b[0m\u001b[0m\n\u001b[0;32m--> 926\u001b[0;31m       \u001b[0;32mreturn\u001b[0m \u001b[0mself\u001b[0m\u001b[0;34m.\u001b[0m\u001b[0m_no_variable_creation_fn\u001b[0m\u001b[0;34m(\u001b[0m\u001b[0;34m*\u001b[0m\u001b[0margs\u001b[0m\u001b[0;34m,\u001b[0m \u001b[0;34m**\u001b[0m\u001b[0mkwds\u001b[0m\u001b[0;34m)\u001b[0m  \u001b[0;31m# pylint: disable=not-callable\u001b[0m\u001b[0;34m\u001b[0m\u001b[0;34m\u001b[0m\u001b[0m\n\u001b[0m\u001b[1;32m    927\u001b[0m     \u001b[0;32melif\u001b[0m \u001b[0mself\u001b[0m\u001b[0;34m.\u001b[0m\u001b[0m_variable_creation_fn\u001b[0m \u001b[0;32mis\u001b[0m \u001b[0;32mnot\u001b[0m \u001b[0;32mNone\u001b[0m\u001b[0;34m:\u001b[0m\u001b[0;34m\u001b[0m\u001b[0;34m\u001b[0m\u001b[0m\n\u001b[1;32m    928\u001b[0m       \u001b[0;31m# Release the lock early so that multiple threads can perform the call\u001b[0m\u001b[0;34m\u001b[0m\u001b[0;34m\u001b[0m\u001b[0m\n",
            "\u001b[0;32m/usr/local/lib/python3.10/dist-packages/tensorflow/python/eager/polymorphic_function/tracing_compiler.py\u001b[0m in \u001b[0;36m__call__\u001b[0;34m(self, *args, **kwargs)\u001b[0m\n\u001b[1;32m    141\u001b[0m       (concrete_function,\n\u001b[1;32m    142\u001b[0m        filtered_flat_args) = self._maybe_define_function(args, kwargs)\n\u001b[0;32m--> 143\u001b[0;31m     return concrete_function._call_flat(\n\u001b[0m\u001b[1;32m    144\u001b[0m         filtered_flat_args, captured_inputs=concrete_function.captured_inputs)  # pylint: disable=protected-access\n\u001b[1;32m    145\u001b[0m \u001b[0;34m\u001b[0m\u001b[0m\n",
            "\u001b[0;32m/usr/local/lib/python3.10/dist-packages/tensorflow/python/eager/polymorphic_function/monomorphic_function.py\u001b[0m in \u001b[0;36m_call_flat\u001b[0;34m(self, args, captured_inputs, cancellation_manager)\u001b[0m\n\u001b[1;32m   1755\u001b[0m         and executing_eagerly):\n\u001b[1;32m   1756\u001b[0m       \u001b[0;31m# No tape is watching; skip to running the function.\u001b[0m\u001b[0;34m\u001b[0m\u001b[0;34m\u001b[0m\u001b[0m\n\u001b[0;32m-> 1757\u001b[0;31m       return self._build_call_outputs(self._inference_function.call(\n\u001b[0m\u001b[1;32m   1758\u001b[0m           ctx, args, cancellation_manager=cancellation_manager))\n\u001b[1;32m   1759\u001b[0m     forward_backward = self._select_forward_and_backward_functions(\n",
            "\u001b[0;32m/usr/local/lib/python3.10/dist-packages/tensorflow/python/eager/polymorphic_function/monomorphic_function.py\u001b[0m in \u001b[0;36mcall\u001b[0;34m(self, ctx, args, cancellation_manager)\u001b[0m\n\u001b[1;32m    379\u001b[0m       \u001b[0;32mwith\u001b[0m \u001b[0m_InterpolateFunctionError\u001b[0m\u001b[0;34m(\u001b[0m\u001b[0mself\u001b[0m\u001b[0;34m)\u001b[0m\u001b[0;34m:\u001b[0m\u001b[0;34m\u001b[0m\u001b[0;34m\u001b[0m\u001b[0m\n\u001b[1;32m    380\u001b[0m         \u001b[0;32mif\u001b[0m \u001b[0mcancellation_manager\u001b[0m \u001b[0;32mis\u001b[0m \u001b[0;32mNone\u001b[0m\u001b[0;34m:\u001b[0m\u001b[0;34m\u001b[0m\u001b[0;34m\u001b[0m\u001b[0m\n\u001b[0;32m--> 381\u001b[0;31m           outputs = execute.execute(\n\u001b[0m\u001b[1;32m    382\u001b[0m               \u001b[0mstr\u001b[0m\u001b[0;34m(\u001b[0m\u001b[0mself\u001b[0m\u001b[0;34m.\u001b[0m\u001b[0msignature\u001b[0m\u001b[0;34m.\u001b[0m\u001b[0mname\u001b[0m\u001b[0;34m)\u001b[0m\u001b[0;34m,\u001b[0m\u001b[0;34m\u001b[0m\u001b[0;34m\u001b[0m\u001b[0m\n\u001b[1;32m    383\u001b[0m               \u001b[0mnum_outputs\u001b[0m\u001b[0;34m=\u001b[0m\u001b[0mself\u001b[0m\u001b[0;34m.\u001b[0m\u001b[0m_num_outputs\u001b[0m\u001b[0;34m,\u001b[0m\u001b[0;34m\u001b[0m\u001b[0;34m\u001b[0m\u001b[0m\n",
            "\u001b[0;32m/usr/local/lib/python3.10/dist-packages/tensorflow/python/eager/execute.py\u001b[0m in \u001b[0;36mquick_execute\u001b[0;34m(op_name, num_outputs, inputs, attrs, ctx, name)\u001b[0m\n\u001b[1;32m     50\u001b[0m   \u001b[0;32mtry\u001b[0m\u001b[0;34m:\u001b[0m\u001b[0;34m\u001b[0m\u001b[0;34m\u001b[0m\u001b[0m\n\u001b[1;32m     51\u001b[0m     \u001b[0mctx\u001b[0m\u001b[0;34m.\u001b[0m\u001b[0mensure_initialized\u001b[0m\u001b[0;34m(\u001b[0m\u001b[0;34m)\u001b[0m\u001b[0;34m\u001b[0m\u001b[0;34m\u001b[0m\u001b[0m\n\u001b[0;32m---> 52\u001b[0;31m     tensors = pywrap_tfe.TFE_Py_Execute(ctx._handle, device_name, op_name,\n\u001b[0m\u001b[1;32m     53\u001b[0m                                         inputs, attrs, num_outputs)\n\u001b[1;32m     54\u001b[0m   \u001b[0;32mexcept\u001b[0m \u001b[0mcore\u001b[0m\u001b[0;34m.\u001b[0m\u001b[0m_NotOkStatusException\u001b[0m \u001b[0;32mas\u001b[0m \u001b[0me\u001b[0m\u001b[0;34m:\u001b[0m\u001b[0;34m\u001b[0m\u001b[0;34m\u001b[0m\u001b[0m\n",
            "\u001b[0;31mKeyboardInterrupt\u001b[0m: "
          ]
        }
      ]
    },
    {
      "cell_type": "code",
      "source": [],
      "metadata": {
        "id": "qiKmNrU-qptg"
      },
      "execution_count": null,
      "outputs": []
    },
    {
      "cell_type": "markdown",
      "source": [
        "min so far val_loss=0.6400\n",
        "import tensorflow as tf\n",
        "from tensorflow.keras. import Embedding, Conv1D, MaxPooling1D, LSTM, Dense, Add, Input,Concatenate\n",
        "from keras.layers import Input, Embedding, Conv1D, GlobalMaxPooling1D, Dense\n",
        "from keras.models import Model\n",
        "# Assuming you have loaded FastText embeddings into 'embedding_matrix'\n",
        "\n",
        "# Input layer\n",
        "input_layer = Input(shape=(max_sequence_length,))\n",
        "\n",
        "# Embedding layer\n",
        "embedding_layer = Embedding(input_dim=num_words,\n",
        "                            output_dim=embedding_dim,\n",
        "                            weights=[embedding_matrix],\n",
        "                            input_length=max_sequence_length,\n",
        "                            trainable=False)(input_layer)\n",
        "\n",
        "# Add a 1D convolutional layer\n",
        "conv_layer = Conv1D(filters=300, kernel_size=3, activation='relu')(embedding_layer)\n",
        "\n",
        "\n",
        "max_pooling_layer = MaxPooling1D(pool_size=2)(conv_layer)\n",
        "# Second 1D convolutional layer\n",
        "conv_layer_2 = Conv1D(filters=300, kernel_size=3, activation='relu')(max_pooling_layer)\n",
        "# Apply global max pooling\n",
        "pooling_layer = GlobalMaxPooling1D()(conv_layer_2)\n",
        "\n",
        "# Add a dense layer\n",
        "dense_layer = Dense(50, activation='relu')(pooling_layer)\n",
        "\n",
        "# Output layer\n",
        "output_layer = Dense(1, activation='sigmoid')(dense_layer)\n",
        "\n",
        "\n",
        "# Create the model\n",
        "\n"
      ],
      "metadata": {
        "id": "K2RoIeZ985VB"
      }
    },
    {
      "cell_type": "code",
      "source": [],
      "metadata": {
        "id": "PUnJB1RM9AKF"
      },
      "execution_count": null,
      "outputs": []
    },
    {
      "cell_type": "markdown",
      "source": [
        "val loss 6300"
      ],
      "metadata": {
        "id": "TMHTzq_NMo0W"
      }
    },
    {
      "cell_type": "code",
      "source": [],
      "metadata": {
        "id": "BtaK6kSVMq4V"
      },
      "execution_count": null,
      "outputs": []
    }
  ]
}